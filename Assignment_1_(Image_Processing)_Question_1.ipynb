{
  "nbformat": 4,
  "nbformat_minor": 0,
  "metadata": {
    "colab": {
      "name": "Assignment-1 (Image Processing)-Question-1.ipynb",
      "provenance": [],
      "collapsed_sections": [],
      "authorship_tag": "ABX9TyM1ENCqBKZJ2Bsz9joP+MWu",
      "include_colab_link": true
    },
    "kernelspec": {
      "name": "python3",
      "display_name": "Python 3"
    }
  },
  "cells": [
    {
      "cell_type": "markdown",
      "metadata": {
        "id": "view-in-github",
        "colab_type": "text"
      },
      "source": [
        "<a href=\"https://colab.research.google.com/github/Tanu-N-Prabhu/Image-Processing/blob/master/Assignment_1_(Image_Processing)_Question_1.ipynb\" target=\"_parent\"><img src=\"https://colab.research.google.com/assets/colab-badge.svg\" alt=\"Open In Colab\"/></a>"
      ]
    },
    {
      "cell_type": "markdown",
      "metadata": {
        "id": "1aUaJPG02Ur_",
        "colab_type": "text"
      },
      "source": [
        "<h1 align = \"center\"><b> CS825-001, Spring/Summer 2020 </b> </h1>\n",
        "\n",
        "<h3 align = \"center\"><b>Assignment 1 - Question 1</b></h3>\n",
        "\n",
        "<h5 align = \"center\"><b>Assigned Date: Saturday, May 16, 2020</b></h3>\n",
        "\n",
        "<h5 align = \"center\"><b> Due Date: Tuesday, May 26, 2020 </b></h3>\n"
      ]
    },
    {
      "cell_type": "markdown",
      "metadata": {
        "id": "0mT_wHjy26Vm",
        "colab_type": "text"
      },
      "source": [
        "# **Question - 1**\n",
        "\n",
        "### Write a program that reads a grayscale image in raw format from a file; resize the image to a specified resolution using the **single point resampling method**; and save the new image into a new file in raw format. Test your program with the following data\n",
        "\n",
        "1. Input image filename: “**rose.raw**”\n",
        "   *   Format: **grayscale**\n",
        "   *   Original resolution: **256x256**\n",
        "   *   New resolution: **500x500**\n",
        "\n",
        "\n",
        "2. Input image filename: “**winter-landscape-1600x1000-grayscale.raw**”\n",
        "\n",
        "    *  Format: **grayscale**\n",
        "    *  Original resolution: **1600x1000**\n",
        "    *  New resolution: **1000x625**\n",
        "\n",
        "\n",
        "3. Input image filename: “**winter-landscape-1600x1000-grayscale.raw**”\n",
        "\n",
        "    *  Format: **grayscale**\n",
        "    *  Original resolution: **1600x1000**\n",
        "    *  New resolution: **640x400**\n",
        "\n",
        "\n",
        "\n",
        "\n",
        "---\n",
        "\n"
      ]
    },
    {
      "cell_type": "markdown",
      "metadata": {
        "id": "gwOmu6Xz35CB",
        "colab_type": "text"
      },
      "source": [
        "# **Solution**\n",
        "\n",
        "# **Input Functions**\n",
        "\n",
        "Below are some of the functions that take the input from the user such as the resolution (rows, columns) and filename of the image.\n",
        "\n",
        "\n",
        "### **Importing Libraries**\n",
        "\n",
        "* The only reason that `numpy` library is used to convert the raw image into **array of pixels**. Mainly used to **store the values in an array**.\n",
        "\n",
        "* The only reason that `more_itertools` is used because of its `numeric_range` function. A extension of the built-in `range()` function whose arguments can be any orderable numeric type. With only stop specified, start defaults to 0 and step defaults to 1. The output items will match the type of stop. To be more precise, this library helps the for loop to loop around decimal numbers."
      ]
    },
    {
      "cell_type": "code",
      "metadata": {
        "id": "uJqSctaW5QX_",
        "colab_type": "code",
        "colab": {}
      },
      "source": [
        "# Necessary libraries used for this assignment\n",
        "import numpy as np"
      ],
      "execution_count": 0,
      "outputs": []
    },
    {
      "cell_type": "markdown",
      "metadata": {
        "id": "pvTc5YTQF9Ql",
        "colab_type": "text"
      },
      "source": [
        "### **Defining all the input functions**"
      ]
    },
    {
      "cell_type": "code",
      "metadata": {
        "id": "9IQwvGaY2OBY",
        "colab_type": "code",
        "colab": {}
      },
      "source": [
        "# Function: Resolution\n",
        "#\n",
        "#    Description:  This functions takes the input from the user. \n",
        "#                  User should enter the number of rows, columns of the old image and the new image.\n",
        "#\n",
        "#    Parameter:    None\n",
        "#\n",
        "#    Result:       returns the value of the inputted rows and columns of the old and new image.\n",
        "#   \n",
        "#    Author:       Tanu Nanda Prabhu\n",
        "\n",
        "def resolution():\n",
        "\n",
        "    # Explicitly typed-casted to intergers, because the rows and columns of the images must an integer. \n",
        "    ROWS = int(input(\"Enter the number of rows of the old image: \"))\n",
        "    COLS = int(input(\"Enter the number of columns of the old image: \"))\n",
        "\n",
        "    ROWSNEW = int(input(\"Enter the number of rows of the new image: \"))\n",
        "    COLSNEW = int(input(\"Enter the number of columns of the new image: \"))\n",
        "\n",
        "    return ROWS, COLS, ROWSNEW, COLSNEW"
      ],
      "execution_count": 0,
      "outputs": []
    },
    {
      "cell_type": "code",
      "metadata": {
        "id": "n9TymrdYGFDe",
        "colab_type": "code",
        "colab": {}
      },
      "source": [
        "# Function: FileName\n",
        "#\n",
        "#    Description:  This functions takes the input from the user. \n",
        "#                  User should enter the filename along with the path to read and save.\n",
        "#\n",
        "#    Parameter:    None\n",
        "#\n",
        "#    Result:       returns the name of the file to read and save.\n",
        "#   \n",
        "#    Author:       Tanu Nanda Prabhu\n",
        "\n",
        "def fileName():\n",
        " \n",
        "    filename_to_read = input(\"Enter the file name to read:  \")\n",
        "    filename_to_save = input(\"Enter the file name to save:  \")\n",
        "    return filename_to_read, filename_to_save"
      ],
      "execution_count": 0,
      "outputs": []
    },
    {
      "cell_type": "code",
      "metadata": {
        "id": "2Iw7wYHAGGZz",
        "colab_type": "code",
        "outputId": "d2cf8ca9-26dd-49b6-c887-cedd0016a928",
        "colab": {
          "base_uri": "https://localhost:8080/",
          "height": 121
        }
      },
      "source": [
        "# Function: main\n",
        "#\n",
        "#    Description:  This is the main function of the program\n",
        "#                  On executing this function, all the functions declared inside will be called. Just like in C, C++, etc.\n",
        "#\n",
        "#    Parameter:    None\n",
        "#\n",
        "#    Result:       Calls every function declared inside it.\n",
        "#   \n",
        "#    Author:       Tanu Nanda Prabhu\n",
        "\n",
        "if __name__ == \"__main__\":\n",
        "\n",
        "    resolution = resolution()    # Calling the resolution() and storing the result in resolution\n",
        "    fileName = fileName()        # Calling the fileName() and storing the result in fileName"
      ],
      "execution_count": 0,
      "outputs": [
        {
          "output_type": "stream",
          "text": [
            "Enter the number of rows of the old image: 256\n",
            "Enter the number of columns of the old image: 256\n",
            "Enter the number of rows of the new image: 500\n",
            "Enter the number of columns of the new image: 500\n",
            "Enter the file name to read:  rose.raw\n",
            "Enter the file name to save:  rose_500*500_single_point.raw\n"
          ],
          "name": "stdout"
        }
      ]
    },
    {
      "cell_type": "markdown",
      "metadata": {
        "id": "nPVzZTw7GT9i",
        "colab_type": "text"
      },
      "source": [
        "\n",
        "\n",
        "---\n",
        "\n"
      ]
    },
    {
      "cell_type": "markdown",
      "metadata": {
        "id": "ZNVzqHJN-Wjc",
        "colab_type": "text"
      },
      "source": [
        "# **Reading a grayscale image in raw format from a file.**"
      ]
    },
    {
      "cell_type": "code",
      "metadata": {
        "id": "zkSBy8ot-S85",
        "colab_type": "code",
        "outputId": "26a2f899-84e5-49fa-ed1b-b8d8cbc18b84",
        "colab": {
          "base_uri": "https://localhost:8080/",
          "height": 35
        }
      },
      "source": [
        "# Initialising rows and column values for the image\n",
        "ROWS = resolution[0]        # This are hardcoded values for the image resolution\n",
        "COLS =  resolution[1]       # This particular image would contain (256*256) meaning 65,536 pixels\n",
        "\n",
        "# Opening the input image file (RAW format)\n",
        "fin = open(fileName[0])                        # Calling a filename which returns the name of \n",
        "print(fin)"
      ],
      "execution_count": 0,
      "outputs": [
        {
          "output_type": "stream",
          "text": [
            "<_io.TextIOWrapper name='rose.raw' mode='r' encoding='UTF-8'>\n"
          ],
          "name": "stdout"
        }
      ]
    },
    {
      "cell_type": "markdown",
      "metadata": {
        "id": "cKhouj3TGZ90",
        "colab_type": "text"
      },
      "source": [
        "Now we need to construct an 2D array from the raw data (image). A highly efficient way of reading binary data with a know data-type must be used, this can be done with the help of **numpy library**. "
      ]
    },
    {
      "cell_type": "code",
      "metadata": {
        "id": "Y3MB2bFVJCNm",
        "colab_type": "code",
        "outputId": "611dc37f-a652-4ca7-9094-34dc01b601c5",
        "colab": {
          "base_uri": "https://localhost:8080/",
          "height": 69
        }
      },
      "source": [
        "# Loading the input image\n",
        "print(\"... Load input image\")\n",
        "img = np.fromfile(fin, dtype = np.uint8, count = ROWS * COLS)\n",
        "print(\"Old dimemsion of the array:\", img.ndim)\n",
        "print(img.size)"
      ],
      "execution_count": 0,
      "outputs": [
        {
          "output_type": "stream",
          "text": [
            "... Load input image\n",
            "Old dimemsion of the array: 1\n",
            "65536\n"
          ],
          "name": "stdout"
        }
      ]
    },
    {
      "cell_type": "markdown",
      "metadata": {
        "id": "4iswDs7sGfMm",
        "colab_type": "text"
      },
      "source": [
        "There is one way that we can convert the !D array to 2D array such as floor dividing the total number of pixels with rows and columns of the image or columns and columns (either is fine). This can be written with the help of a formula :\n",
        "\n",
        "`img = tp // (cols, cols)`\n",
        "\n",
        "**tp** = total pixels; **rows** and **cols** represents rows and coloumns of the image. The reason we are using floor divison rather than division because we need to round off the values as a whole number.\n",
        "\n"
      ]
    },
    {
      "cell_type": "code",
      "metadata": {
        "id": "203mQO8PGhwH",
        "colab_type": "code",
        "outputId": "4e8f62e8-cc10-401b-a193-a40649286269",
        "colab": {
          "base_uri": "https://localhost:8080/",
          "height": 225
        }
      },
      "source": [
        "# Conversion from 1D to 2D array\n",
        "img.shape = (img.size // COLS, COLS)\n",
        "print(\"New dimension of the array:\", img.ndim)\n",
        "print(\"----------------------------------------------------\")\n",
        "print(\" The 2D array of the original image is: \\n\", img)\n",
        "print(\"----------------------------------------------------\")\n",
        "print(\"The shape of the original image array is: \", img.shape)"
      ],
      "execution_count": 0,
      "outputs": [
        {
          "output_type": "stream",
          "text": [
            "New dimension of the array: 2\n",
            "----------------------------------------------------\n",
            " The 2D array of the original image is: \n",
            " [[17 18 18 ... 24 23 23]\n",
            " [19 19 18 ... 23 24 23]\n",
            " [18 19 19 ... 22 22 21]\n",
            " ...\n",
            " [ 6  6  6 ...  8  8  7]\n",
            " [ 6  6  7 ... 10 10 10]\n",
            " [ 8  7  8 ... 17 17 17]]\n",
            "----------------------------------------------------\n",
            "The shape of the original image array is:  (256, 256)\n"
          ],
          "name": "stdout"
        }
      ]
    },
    {
      "cell_type": "code",
      "metadata": {
        "id": "dVjQ1KKwGjnG",
        "colab_type": "code",
        "outputId": "dc5d560c-a5ea-46dd-8803-a5dc83cc7031",
        "colab": {
          "base_uri": "https://localhost:8080/",
          "height": 35
        }
      },
      "source": [
        "# This is an extra step, creating a empty 2D array, with new rows and columns (height and width)\n",
        "\n",
        "\n",
        "ROWSNEW = resolution[2]\n",
        "COLSNEW = resolution[3]\n",
        "imgNew = np.zeros([ROWSNEW, COLSNEW])\n",
        "\n",
        "# Converting the array into integer\n",
        "imgNew = imgNew.astype(int)\n",
        "print(\"The shape of the new Image array is: \", imgNew.shape)"
      ],
      "execution_count": 0,
      "outputs": [
        {
          "output_type": "stream",
          "text": [
            "The shape of the new Image array is:  (500, 500)\n"
          ],
          "name": "stdout"
        }
      ]
    },
    {
      "cell_type": "markdown",
      "metadata": {
        "id": "Lx9HhMUIJ-qX",
        "colab_type": "text"
      },
      "source": [
        "\n",
        "\n",
        "---\n",
        "\n"
      ]
    },
    {
      "cell_type": "markdown",
      "metadata": {
        "id": "803oR-e0J_Mc",
        "colab_type": "text"
      },
      "source": [
        "# **Resizing the image to a specified resolution using single point resampling method**"
      ]
    },
    {
      "cell_type": "markdown",
      "metadata": {
        "id": "dH4AJGuNMgfD",
        "colab_type": "text"
      },
      "source": [
        "## **Resampling the image**"
      ]
    },
    {
      "cell_type": "code",
      "metadata": {
        "id": "AWaY5QAmKHoO",
        "colab_type": "code",
        "colab": {}
      },
      "source": [
        "# Function: Resampling\n",
        "#\n",
        "#   Parameter: img – the original image\n",
        "#              N – the number of columns\n",
        "#              M – the number rows\n",
        "#              x, y – the position for resampling\n",
        "#\n",
        "#   Result:    resampled intensity value at (x,y) position\n",
        "\n",
        "def resampling(img, N, M, x, y):\n",
        "\n",
        "    i = int(x)   # truncation\n",
        "    j = int(y)   # truncation\n",
        "    \n",
        "    s = (x - i)\n",
        "    t = (y - j)\n",
        "    \n",
        "    result = img[j,i] * (1.0-s) * (1.0-t) + img[j,i+1] * s * (1.0-t) + img[j+1,i] * (1.0-s) * t + img[j+1,i+1] * s * t\n",
        "\n",
        "    # Since we don't want the intensity values in float, we can safely explicitly type cast it to intergers as shown below\n",
        "    return int(result)"
      ],
      "execution_count": 0,
      "outputs": []
    },
    {
      "cell_type": "markdown",
      "metadata": {
        "id": "oVsGimCaMTz0",
        "colab_type": "text"
      },
      "source": [
        "\n",
        "\n",
        "---\n",
        "\n"
      ]
    },
    {
      "cell_type": "markdown",
      "metadata": {
        "id": "6KlBgwC-MUUR",
        "colab_type": "text"
      },
      "source": [
        "## **Resizing the image**"
      ]
    },
    {
      "cell_type": "code",
      "metadata": {
        "id": "RFVcdOnbMjn_",
        "colab_type": "code",
        "colab": {}
      },
      "source": [
        "# Function: Image Resizing\n",
        "#\n",
        "#   Parameters: img – original image\n",
        "#               N, M – columns and rows of the original image\n",
        "#               imgNew – resized the new image\n",
        "#               N1, M1 – columns and rows of the new image\n",
        "\n",
        "def resizeImage(img, imgNew, N, M, N1, M1):\n",
        "\n",
        "    x = 0.0    \n",
        "    y = 0.0\n",
        "\n",
        "    Dx = float(N - 1)/(N1 - 1)    # Dx, Dy are the interval lengths for resampling\n",
        "    Dy = float(M - 1)/(M1 - 1)    # Double data type are not supported in python, so using float is preferable\n",
        "\n",
        "    for j in range(M1):\n",
        "        y += Dy\n",
        "        for i in range(N1):\n",
        "\n",
        "            # To avoid array index out of bound exception, since the rows and columns of original image is 256 and 256.\n",
        "            # The resampling methods tries to access the 257 rows and 257 columns and so on...\n",
        "            # So we need to manually set the thresholds and then break the condition once if the control come here and continue looping\n",
        "            if(x >= COLS-1 or y >= ROWS-1 ):\n",
        "                break\n",
        "\n",
        "            imgNew[j][i] = resampling(img, N, M, x, y)\n",
        "            x = x+Dx\n",
        "\n",
        "        # If we don't reinitialize the x value to 0.0 then at the end we will get a blank black image. So doing this is compulsory\n",
        "        x = 0.0\n",
        "        \n",
        "    # Printing the newly image array\n",
        "    print(imgNew)"
      ],
      "execution_count": 0,
      "outputs": []
    },
    {
      "cell_type": "markdown",
      "metadata": {
        "id": "7x-bEZrVG2qd",
        "colab_type": "text"
      },
      "source": [
        "# **Testing the program**\n",
        "\n",
        "1. Input image filename: “rose.raw”\n",
        "\n",
        "*   Format: grayscale\n",
        "*   Original resolution: 256x256\n",
        "*   New resolution: 500x500\n",
        "\n"
      ]
    },
    {
      "cell_type": "code",
      "metadata": {
        "id": "TwObFdFiG8vh",
        "colab_type": "code",
        "outputId": "456e57b5-aeaf-4e62-b84a-8422a537fe97",
        "colab": {
          "base_uri": "https://localhost:8080/",
          "height": 139
        }
      },
      "source": [
        "resizeImage(img, imgNew, resolution[1], resolution[0], resolution[3], resolution[2])"
      ],
      "execution_count": 0,
      "outputs": [
        {
          "output_type": "stream",
          "text": [
            "[[18 18 18 ... 23 23  0]\n",
            " [18 18 18 ... 23 23  0]\n",
            " [18 18 18 ... 22 22  0]\n",
            " ...\n",
            " [ 6  6  6 ... 13 13  0]\n",
            " [ 0  0  0 ...  0  0  0]\n",
            " [ 0  0  0 ...  0  0  0]]\n"
          ],
          "name": "stdout"
        }
      ]
    },
    {
      "cell_type": "markdown",
      "metadata": {
        "id": "0S0HwbgzG69v",
        "colab_type": "text"
      },
      "source": [
        "2. Input image filename: “winter-landscape-1600x1000-grayscale.raw”\n",
        "\n",
        "*  Format: grayscale\n",
        "*  Original resolution: 1600x1000\n",
        "*  New resolution: 1000x625\n",
        "\n",
        "\n"
      ]
    },
    {
      "cell_type": "code",
      "metadata": {
        "id": "4MhqEPq0G44Q",
        "colab_type": "code",
        "outputId": "aaaacc4d-add3-4815-a1a3-dad39ec4b06d",
        "colab": {
          "base_uri": "https://localhost:8080/",
          "height": 139
        }
      },
      "source": [
        "resizeImage(img, imgNew, resolution[1], resolution[0], resolution[3], resolution[2])"
      ],
      "execution_count": 0,
      "outputs": [
        {
          "output_type": "stream",
          "text": [
            "[[18 18 18 ... 23 23  0]\n",
            " [18 18 18 ... 23 23  0]\n",
            " [18 18 18 ... 22 22  0]\n",
            " ...\n",
            " [ 6  6  6 ... 13 13  0]\n",
            " [ 0  0  0 ...  0  0  0]\n",
            " [ 0  0  0 ...  0  0  0]]\n"
          ],
          "name": "stdout"
        }
      ]
    },
    {
      "cell_type": "markdown",
      "metadata": {
        "id": "QVixePrtH37b",
        "colab_type": "text"
      },
      "source": [
        "3. Input image filename: “winter-landscape-1600x1000-grayscale.raw”\n",
        "\n",
        "*  Format: grayscale\n",
        "*  Original resolution: 1600x1000\n",
        "*  New resolution: 640x400"
      ]
    },
    {
      "cell_type": "code",
      "metadata": {
        "id": "7GQRjPlfHAOn",
        "colab_type": "code",
        "colab": {}
      },
      "source": [
        "resizeImage(img, imgNew, resolution[1], resolution[0], resolution[3], resolution[2])"
      ],
      "execution_count": 0,
      "outputs": []
    },
    {
      "cell_type": "markdown",
      "metadata": {
        "id": "_ZA1WbOfSKAs",
        "colab_type": "text"
      },
      "source": [
        "\n",
        "\n",
        "---\n",
        "\n"
      ]
    },
    {
      "cell_type": "markdown",
      "metadata": {
        "id": "Kbs5SCIiSKjJ",
        "colab_type": "text"
      },
      "source": [
        "# **Saving the new image into a new file in a raw format**"
      ]
    },
    {
      "cell_type": "code",
      "metadata": {
        "id": "_qmepmjmSPty",
        "colab_type": "code",
        "outputId": "7971f789-542f-42f9-b301-304862b13ad9",
        "colab": {
          "base_uri": "https://localhost:8080/",
          "height": 52
        }
      },
      "source": [
        "# Save the output image\n",
        "print(\"... Save the output image\")\n",
        "imgNew.astype('int8').tofile(fileName[1])\n",
        "print(\"... File successfully saved\")\n",
        "fin.close()"
      ],
      "execution_count": 0,
      "outputs": [
        {
          "output_type": "stream",
          "text": [
            "... Save the output image\n",
            "... File successfully saved\n"
          ],
          "name": "stdout"
        }
      ]
    },
    {
      "cell_type": "markdown",
      "metadata": {
        "id": "uD1ymfClThzM",
        "colab_type": "text"
      },
      "source": [
        "\n",
        "\n",
        "---\n",
        "\n"
      ]
    }
  ]
}