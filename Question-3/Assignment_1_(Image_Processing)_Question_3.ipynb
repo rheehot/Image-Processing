{
  "nbformat": 4,
  "nbformat_minor": 0,
  "metadata": {
    "colab": {
      "name": "Assignment-1 (Image Processing)-Question-3.ipynb",
      "provenance": [],
      "collapsed_sections": []
    },
    "kernelspec": {
      "name": "python3",
      "display_name": "Python 3"
    }
  },
  "cells": [
    {
      "cell_type": "markdown",
      "metadata": {
        "id": "pVacOBjD2Ual",
        "colab_type": "text"
      },
      "source": [
        "# **CS825-001, Spring/Summer 2020**\n",
        "\n",
        "## **Assignment 1 - Question 3**\n",
        "\n",
        "### **Assigned Date: Saturday, May 16, 2020**\n",
        "\n",
        "### **Due Date: Tuesday, May 28, 2020**\n"
      ]
    },
    {
      "cell_type": "markdown",
      "metadata": {
        "id": "nV-NwKdu2d03",
        "colab_type": "text"
      },
      "source": [
        "# **Question - 3**\n",
        "\n",
        "### Write a program that reads “rose.raw” as the input image; change the **intensity quantization level**; and save the new image into a new file in raw format. The original image uses 8 bits per pixel, thus having 256 intensity levels. Test your program by converting intensity level to the following 4 new levels respectivfely\n",
        "\n",
        "1. 128 levels (by setting the least significant bit of each pixel to 0)\n",
        "e.g. if a pixel’s original value in binary is 10110101, the new value will be 10110100\n",
        "\n",
        "\n",
        "2. 64 levels (by setting the two least significant bits of each pixel to 0’s)\n",
        "\n",
        "\n",
        "3. 32 levels (by setting the three least significant bits of each pixel to 0’s)\n",
        "\n",
        "4. 16 levels (by setting the four least significant bits of each pixel to 0’s)\n",
        "\n",
        "\n",
        "\n",
        "\n",
        "---\n",
        "\n"
      ]
    },
    {
      "cell_type": "markdown",
      "metadata": {
        "id": "sSpZ9K1y23cw",
        "colab_type": "text"
      },
      "source": [
        "# **Solution**\n",
        "\n",
        "# **Input Functions**\n",
        "\n",
        "Below are some of the functions that take the input from the user such as the resolution (rows, columns) and filename of the image.\n",
        "\n",
        "\n",
        "### **Importing Libraries**\n",
        "\n",
        "* The only reason that `numpy` library is used to convert the raw image into **array of pixels**. Mainly used to **store the values in an array**.\n"
      ]
    },
    {
      "cell_type": "code",
      "metadata": {
        "id": "Z0DK5Tko3RYB",
        "colab_type": "code",
        "colab": {}
      },
      "source": [
        "# Necessary libraries used for this assignment\n",
        "import numpy as np"
      ],
      "execution_count": 0,
      "outputs": []
    },
    {
      "cell_type": "markdown",
      "metadata": {
        "id": "5uUF18-h3WxT",
        "colab_type": "text"
      },
      "source": [
        "### **Defining all the input functions**"
      ]
    },
    {
      "cell_type": "code",
      "metadata": {
        "id": "owEsw3972_i4",
        "colab_type": "code",
        "colab": {}
      },
      "source": [
        "# Function: Resolution\n",
        "#\n",
        "#    Description:  This functions takes the input from the user. \n",
        "#                  User should enter the number of rows, columns of the input image.\n",
        "#    Parameter:    None\n",
        "#\n",
        "#    Result:       returns the value of the inputted rows and columns of the input image.\n",
        "#   \n",
        "#    Author:       Tanu Nanda Prabhu\n",
        "\n",
        "def resolution():\n",
        "\n",
        "    # Explicitly typed-casted to intergers, because the rows and columns of the images must an integer. \n",
        "    ROWS = int(input(\"Enter the number of rows of the input image: \"))\n",
        "    COLS = int(input(\"Enter the number of columns of the input image: \"))\n",
        "\n",
        "    return ROWS, COLS"
      ],
      "execution_count": 0,
      "outputs": []
    },
    {
      "cell_type": "code",
      "metadata": {
        "id": "MS0SIk7m3LY0",
        "colab_type": "code",
        "colab": {}
      },
      "source": [
        "# Function: FileName\n",
        "#\n",
        "#    Description:  This functions takes the input from the user. \n",
        "#                  User should enter the filename along with the path to read and save.\n",
        "#\n",
        "#    Parameter:    None\n",
        "#\n",
        "#    Result:       returns the name of the file to read and save.\n",
        "#   \n",
        "#    Author:       Tanu Nanda Prabhu\n",
        "\n",
        "def fileName():\n",
        " \n",
        "    filename_to_read = input(\"Enter the file name to read:  \")\n",
        "    filename_to_save = input(\"Enter the file name to save:  \")\n",
        "    return filename_to_read, filename_to_save"
      ],
      "execution_count": 0,
      "outputs": []
    },
    {
      "cell_type": "code",
      "metadata": {
        "id": "OE7e1fgC56do",
        "colab_type": "code",
        "colab": {}
      },
      "source": [
        "# Function: Intensity Level\n",
        "#\n",
        "#    Description:  This functions takes the input from the user. \n",
        "#                  User should enter the number of intensity levels\n",
        "#\n",
        "#    Parameter:    None\n",
        "#\n",
        "#    Result:       returns the level of intensity\n",
        "#   \n",
        "#    Author:       Tanu Nanda Prabhu\n",
        "\n",
        "def intensityLevel():\n",
        " \n",
        "    level = int(input(\"Enter the number of intensity levels: \"))\n",
        "\n",
        "    # 128 - 1 bit to 0\n",
        "    # 64 - 2 bit to 0\n",
        "    # 32 - 3 bit to 0\n",
        "    # 16 - 4 bit to 0\n",
        "    \n",
        "    return level"
      ],
      "execution_count": 0,
      "outputs": []
    },
    {
      "cell_type": "code",
      "metadata": {
        "id": "bhG4vXesrNou",
        "colab_type": "code",
        "colab": {}
      },
      "source": [
        "# Function: main\n",
        "#\n",
        "#    Description:  This is the main function of the program\n",
        "#                  On executing this function, all the functions declared inside will be called. Just like in C, C++, etc.\n",
        "#\n",
        "#    Parameter:    None\n",
        "#\n",
        "#    Result:       Calls every function declared inside it.\n",
        "#   \n",
        "#    Author:       Tanu Nanda Prabhu\n",
        "\n",
        "if __name__ == \"__main__\":\n",
        "\n",
        "    resolution = resolution()    # Calling the resolution() and storing the result in resolution\n",
        "    fileName = fileName()        # Calling the fileName() and storing the result in fileName\n",
        "    level = intensityLevel()     # Calling the intensityLevel() and storing the result in level"
      ],
      "execution_count": 0,
      "outputs": []
    },
    {
      "cell_type": "markdown",
      "metadata": {
        "id": "8ILLllhP3OOV",
        "colab_type": "text"
      },
      "source": [
        "\n",
        "\n",
        "---\n",
        "\n"
      ]
    },
    {
      "cell_type": "markdown",
      "metadata": {
        "id": "i-pojVyl3aFi",
        "colab_type": "text"
      },
      "source": [
        "# **Reading a grayscale image in raw format from a file.**"
      ]
    },
    {
      "cell_type": "code",
      "metadata": {
        "id": "YAdFQ7OQ3eFH",
        "colab_type": "code",
        "colab": {
          "base_uri": "https://localhost:8080/",
          "height": 35
        },
        "outputId": "5190507b-053c-41da-afa8-cc65b160727b"
      },
      "source": [
        "# Initialising rows and column values for the image\n",
        "ROWS = resolution[0]       \n",
        "COLS =  resolution[1]       # For example a particular image in this case would contain (256*256) rows and columns meaning 65,536 pixels\n",
        "\n",
        "# Opening the input image file (RAW format)\n",
        "fin = open(fileName[0])     # The variable fileName contains the inputted file name to read from  \n",
        "print(fin)"
      ],
      "execution_count": 6,
      "outputs": [
        {
          "output_type": "stream",
          "text": [
            "<_io.TextIOWrapper name='rose.raw' mode='r' encoding='UTF-8'>\n"
          ],
          "name": "stdout"
        }
      ]
    },
    {
      "cell_type": "markdown",
      "metadata": {
        "id": "EbYm8Jew3iHk",
        "colab_type": "text"
      },
      "source": [
        "Now, we need to construct an 2D array from the raw data (image). A highly efficient way of reading binary data with a know data-type must be used, this can be done with the help of **numpy library**. "
      ]
    },
    {
      "cell_type": "code",
      "metadata": {
        "id": "HF4dbCfqKMHb",
        "colab_type": "code",
        "outputId": "3c3173e0-344a-4b5f-e0ab-6cc067239d3f",
        "colab": {
          "base_uri": "https://localhost:8080/",
          "height": 87
        }
      },
      "source": [
        "# Loading the input image\n",
        "print(\"... Load input image\")\n",
        "img = np.fromfile(fin, dtype = np.uint8, count = ROWS * COLS)\n",
        "print(\"Dimension of the old image array: \", img.ndim)\n",
        "print(\"Size of the old image array: \", img.size)\n",
        "print(img)"
      ],
      "execution_count": 7,
      "outputs": [
        {
          "output_type": "stream",
          "text": [
            "... Load input image\n",
            "Dimension of the old image array:  1\n",
            "Size of the old image array:  65536\n",
            "[17 18 18 ... 17 17 17]\n"
          ],
          "name": "stdout"
        }
      ]
    },
    {
      "cell_type": "markdown",
      "metadata": {
        "id": "ROwfsBaG4Lfl",
        "colab_type": "text"
      },
      "source": [
        "## **Conversion of the input image array into binary array**"
      ]
    },
    {
      "cell_type": "code",
      "metadata": {
        "id": "pc4mFWRiKbQf",
        "colab_type": "code",
        "outputId": "d0ea53f8-baad-418f-913f-f3933e486a49",
        "colab": {
          "base_uri": "https://localhost:8080/",
          "height": 69
        }
      },
      "source": [
        "binArray = np.array([])  # Initializing a new array 'a'\n",
        "print(binArray.shape)    # The new array has nothing in it\n",
        "\n",
        "for i in range(len(img)):\n",
        "\n",
        "# Here each time since we are in loop individual elememts of the input image would be converted to binary, and would be appended to the binArray\n",
        "    binArray = np.append(binArray, [format(img[i],\"08b\")])     # This is how we convert an array into binary in python using '08b' (8 bits)\n",
        "\n",
        "print(\"The binary converted array is shown below:\\n\", binArray)"
      ],
      "execution_count": 8,
      "outputs": [
        {
          "output_type": "stream",
          "text": [
            "(0,)\n",
            "The binary converted array is shown below:\n",
            " ['00010001' '00010010' '00010010' ... '00010001' '00010001' '00010001']\n"
          ],
          "name": "stdout"
        }
      ]
    },
    {
      "cell_type": "markdown",
      "metadata": {
        "id": "mKxx5rbM5n1w",
        "colab_type": "text"
      },
      "source": [
        "\n",
        "\n",
        "---\n",
        "\n"
      ]
    },
    {
      "cell_type": "markdown",
      "metadata": {
        "id": "DfPlFBxo6Pbj",
        "colab_type": "text"
      },
      "source": [
        "## **Intensity level quantization**\n",
        "Here we reduce the intensity of the input image into four divverent levels 128, 64, 32 and 16. This can be done by setting the least significant bits to 0. For example in the case of 128 we need to set the least significant bit to 0, similarly for 64 two least significant bit to 0, 32 and 16 three and four least significant bits to 0 respectively."
      ]
    },
    {
      "cell_type": "code",
      "metadata": {
        "id": "PjeUNxyphWhz",
        "colab_type": "code",
        "outputId": "38d4024a-a3af-44f6-bbbb-5d8a6e74ef02",
        "colab": {
          "base_uri": "https://localhost:8080/",
          "height": 104
        }
      },
      "source": [
        "\n",
        "for i in range(len(binArray)):\n",
        "\n",
        "\n",
        "# This step is mandatory because if we need to access individual then ond of the best way in python is to convert it to a list.  \n",
        "    binArrayList = list(binArray[i])\n",
        "\n",
        "\n",
        "    # Condition for 8 bits in a pixel\n",
        "    if len(binArrayList) == 8:\n",
        "\n",
        "        # If the intensity level entered by the user is 128 then set the lsb to 0\n",
        "        if level == 128:\n",
        "            binArrayList[7]='0'  # Because 0-7 = 8 bits and the least bit is the 7th bit.\n",
        "            binArray[i]=''.join(binArrayList)\n",
        "\n",
        "        # If the intensity level entered by the user is 64 then set the two lsb to 0\n",
        "        elif level == 64:\n",
        "            binArrayList[6] = '0'\n",
        "            binArrayList[7] = '0'\n",
        "            binArray[i] = ''.join(binArrayList)\n",
        "\n",
        "        # If the intensity level entered by the user is 32 then set the three lsb to 0\n",
        "        elif level == 32:\n",
        "            binArrayList[5] = '0'\n",
        "            binArrayList[6] = '0'\n",
        "            binArrayList[7] = '0'\n",
        "            binArray[i] = ''.join(binArrayList)\n",
        "\n",
        "        # If the intensity level entered by the user is 16 then set the four lsb to 0\n",
        "        elif level == 16:\n",
        "            binArrayList[4] = '0'\n",
        "            binArrayList[5] = '0'\n",
        "            binArrayList[6] = '0'\n",
        "            binArrayList[7] = '0'\n",
        "            binArray[i] = ''.join(binArrayList)\n",
        "\n",
        "    else:\n",
        "        binArray[i]=binArray[i]\n",
        "\n",
        "print(\"The updated binary array after intensity quantization will be: \\n\", binArray)\n",
        "print(\"---------------------------------------------------------------------------\")\n",
        "print(\"The shape of the updated binary array is: \\n\", binArray.shape)"
      ],
      "execution_count": 9,
      "outputs": [
        {
          "output_type": "stream",
          "text": [
            "The updated binary array after intensity quantization will be: \n",
            " ['00010000' '00010000' '00010000' ... '00010000' '00010000' '00010000']\n",
            "---------------------------------------------------------------------------\n",
            "The shape of the updated binary array is: \n",
            " (65536,)\n"
          ],
          "name": "stdout"
        }
      ]
    },
    {
      "cell_type": "markdown",
      "metadata": {
        "id": "uylTdA778YBi",
        "colab_type": "text"
      },
      "source": [
        "\n",
        "\n",
        "---\n",
        "\n"
      ]
    },
    {
      "cell_type": "markdown",
      "metadata": {
        "id": "AifNS_NJ8qXT",
        "colab_type": "text"
      },
      "source": [
        "## **Conversion of the intensity quantized binary array to interger array**"
      ]
    },
    {
      "cell_type": "code",
      "metadata": {
        "id": "CuisvjotRfPz",
        "colab_type": "code",
        "outputId": "3a30139f-c41d-4996-805e-3ec065660f46",
        "colab": {
          "base_uri": "https://localhost:8080/",
          "height": 87
        }
      },
      "source": [
        "for i in range(len(binArray)):\n",
        "\n",
        "    binArray[i] = int(\"\".join(str(x) for x in binArray[i]), 2)   # Conversion of updated binary array back to the original integer array\n",
        "\n",
        "print(\"The integer quantized array is shown below:\\n\", binArray)\n",
        "print(\"---------------------------------------------------------------------------\")\n",
        "print(\"The shape of the integer array is: \", binArray.shape)"
      ],
      "execution_count": 10,
      "outputs": [
        {
          "output_type": "stream",
          "text": [
            "The integer quantized array is shown below:\n",
            " ['16' '16' '16' ... '16' '16' '16']\n",
            "---------------------------------------------------------------------------\n",
            "The shape of the integer array is:  (65536,)\n"
          ],
          "name": "stdout"
        }
      ]
    },
    {
      "cell_type": "markdown",
      "metadata": {
        "id": "EffmYZmx9ymR",
        "colab_type": "text"
      },
      "source": [
        "There is one way that we can convert the 1D array to 2D array such as floor dividing the total number of pixels with rows and columns of the image or columns and columns (either is fine). This can be written with the help of a formula :\n",
        "\n",
        "`img = tp // (cols, cols)`\n",
        "\n",
        "**tp** = total pixels; **cols** represents rows and columns of the image. The reason we are using floor divison rather than division because we need to round off the values as a whole number.\n",
        "\n"
      ]
    },
    {
      "cell_type": "code",
      "metadata": {
        "id": "509Fo8SLqqRl",
        "colab_type": "code",
        "colab": {}
      },
      "source": [
        "intArray = binArray"
      ],
      "execution_count": 0,
      "outputs": []
    },
    {
      "cell_type": "code",
      "metadata": {
        "id": "vCeABaSymaD6",
        "colab_type": "code",
        "outputId": "f135e861-f2d8-4d34-f914-b7afbd23bba4",
        "colab": {
          "base_uri": "https://localhost:8080/",
          "height": 208
        }
      },
      "source": [
        "# Conversion from 1D to 2D array\n",
        "intArray.shape = (intArray.size // COLS, COLS)\n",
        "print(\"New dimension of the array:\", intArray.ndim)\n",
        "print(\"----------------------------------------------------\")\n",
        "print(\"The shape of the original image array is: \", intArray.shape)\n",
        "img = intArray.astype(int)   # Explicit type casting to integer, just in case.\n",
        "print(\" The 2D array of the original image is: \\n\", img)"
      ],
      "execution_count": 12,
      "outputs": [
        {
          "output_type": "stream",
          "text": [
            "New dimension of the array: 2\n",
            "----------------------------------------------------\n",
            "The shape of the original image array is:  (256, 256)\n",
            " The 2D array of the original image is: \n",
            " [[16 16 16 ... 16 16 16]\n",
            " [16 16 16 ... 16 16 16]\n",
            " [16 16 16 ... 16 16 16]\n",
            " ...\n",
            " [ 0  0  0 ...  0  0  0]\n",
            " [ 0  0  0 ...  0  0  0]\n",
            " [ 0  0  0 ... 16 16 16]]\n"
          ],
          "name": "stdout"
        }
      ]
    },
    {
      "cell_type": "markdown",
      "metadata": {
        "id": "gswqrGz8-dMJ",
        "colab_type": "text"
      },
      "source": [
        "\n",
        "\n",
        "---\n",
        "\n"
      ]
    },
    {
      "cell_type": "markdown",
      "metadata": {
        "id": "vKIco_VMMIAp",
        "colab_type": "text"
      },
      "source": [
        "# **Testing the program**\n",
        "\n",
        "1. 128 levels (by setting the least significant bit of each pixel to 0)\n",
        "e.g. if a pixel’s original value in binary is 10110101, the new value will be 10110100."
      ]
    },
    {
      "cell_type": "code",
      "metadata": {
        "id": "arbMCZKl3M8o",
        "colab_type": "code",
        "colab": {
          "base_uri": "https://localhost:8080/",
          "height": 104
        },
        "outputId": "e3d17bd1-8e7b-493f-a91e-1146efb2e50f"
      },
      "source": [
        "# Function: main\n",
        "#\n",
        "#    Description:  This is the main function of the program\n",
        "#                  On executing this function, all the functions declared inside will be called. Just like in C, C++, etc.\n",
        "#\n",
        "#    Parameter:    None\n",
        "#\n",
        "#    Result:       Calls every function declared inside it.\n",
        "#   \n",
        "#    Author:       Tanu Nanda Prabhu\n",
        "\n",
        "if __name__ == \"__main__\":\n",
        "\n",
        "    resolution = resolution()    # Calling the resolution() and storing the result in resolution\n",
        "    fileName = fileName()        # Calling the fileName() and storing the result in fileName\n",
        "    level = intensityLevel()     # Calling the intensityLevel() and storing the result in level"
      ],
      "execution_count": 5,
      "outputs": [
        {
          "output_type": "stream",
          "text": [
            "Enter the number of rows of the input image: 256\n",
            "Enter the number of columns of the input image: 256\n",
            "Enter the file name to read:  rose.raw\n",
            "Enter the file name to save:  rose128.raw\n",
            "Enter the number of intensity levels: 128\n"
          ],
          "name": "stdout"
        }
      ]
    },
    {
      "cell_type": "code",
      "metadata": {
        "id": "CP_ySpkKq1UW",
        "colab_type": "code",
        "colab": {
          "base_uri": "https://localhost:8080/",
          "height": 156
        },
        "outputId": "3998ad61-0ccd-43fa-fc14-0f2f9374f667"
      },
      "source": [
        "print(\" The 2D array of the original image is: \\n\", img)"
      ],
      "execution_count": 16,
      "outputs": [
        {
          "output_type": "stream",
          "text": [
            " The 2D array of the original image is: \n",
            " [[16 18 18 ... 24 22 22]\n",
            " [18 18 18 ... 22 24 22]\n",
            " [18 18 18 ... 22 22 20]\n",
            " ...\n",
            " [ 6  6  6 ...  8  8  6]\n",
            " [ 6  6  6 ... 10 10 10]\n",
            " [ 8  6  8 ... 16 16 16]]\n"
          ],
          "name": "stdout"
        }
      ]
    },
    {
      "cell_type": "markdown",
      "metadata": {
        "id": "-TNeO4R0K97m",
        "colab_type": "text"
      },
      "source": [
        "\n",
        "\n",
        "---\n",
        "\n"
      ]
    },
    {
      "cell_type": "markdown",
      "metadata": {
        "id": "tG1u9xlkK-yo",
        "colab_type": "text"
      },
      "source": [
        "2. 64 levels (by setting the two least significant bits of each pixel to 0’s)"
      ]
    },
    {
      "cell_type": "code",
      "metadata": {
        "id": "Ge72fN0WLch7",
        "colab_type": "code",
        "colab": {
          "base_uri": "https://localhost:8080/",
          "height": 104
        },
        "outputId": "e43a808a-46eb-4dfc-9a6c-4684f633d944"
      },
      "source": [
        "# Function: main\n",
        "#\n",
        "#    Description:  This is the main function of the program\n",
        "#                  On executing this function, all the functions declared inside will be called. Just like in C, C++, etc.\n",
        "#\n",
        "#    Parameter:    None\n",
        "#\n",
        "#    Result:       Calls every function declared inside it.\n",
        "#   \n",
        "#    Author:       Tanu Nanda Prabhu\n",
        "\n",
        "if __name__ == \"__main__\":\n",
        "\n",
        "    resolution = resolution()    # Calling the resolution() and storing the result in resolution\n",
        "    fileName = fileName()        # Calling the fileName() and storing the result in fileName\n",
        "    level = intensityLevel()     # Calling the intensityLevel() and storing the result in level"
      ],
      "execution_count": 11,
      "outputs": [
        {
          "output_type": "stream",
          "text": [
            "Enter the number of rows of the input image: 256\n",
            "Enter the number of columns of the input image: 256\n",
            "Enter the file name to read:  rose.raw\n",
            "Enter the file name to save:  rose64.raw\n",
            "Enter the number of intensity levels: 64\n"
          ],
          "name": "stdout"
        }
      ]
    },
    {
      "cell_type": "code",
      "metadata": {
        "id": "sMEJkrpmq6wO",
        "colab_type": "code",
        "colab": {
          "base_uri": "https://localhost:8080/",
          "height": 156
        },
        "outputId": "16311974-a432-430c-f4f4-4acba9af5f0b"
      },
      "source": [
        "print(\" The 2D array of the original image is: \\n\", img)"
      ],
      "execution_count": 19,
      "outputs": [
        {
          "output_type": "stream",
          "text": [
            " The 2D array of the original image is: \n",
            " [[16 16 16 ... 24 20 20]\n",
            " [16 16 16 ... 20 24 20]\n",
            " [16 16 16 ... 20 20 20]\n",
            " ...\n",
            " [ 4  4  4 ...  8  8  4]\n",
            " [ 4  4  4 ...  8  8  8]\n",
            " [ 8  4  8 ... 16 16 16]]\n"
          ],
          "name": "stdout"
        }
      ]
    },
    {
      "cell_type": "markdown",
      "metadata": {
        "id": "k3T0OINhr8vN",
        "colab_type": "text"
      },
      "source": [
        "\n",
        "\n",
        "---\n",
        "\n"
      ]
    },
    {
      "cell_type": "markdown",
      "metadata": {
        "id": "bRYm_cXlr9Tk",
        "colab_type": "text"
      },
      "source": [
        "3. 32 levels (by setting the three least significant bits of each pixel to 0’s)\n",
        "\n"
      ]
    },
    {
      "cell_type": "code",
      "metadata": {
        "id": "n5HKod7xsL4s",
        "colab_type": "code",
        "colab": {
          "base_uri": "https://localhost:8080/",
          "height": 104
        },
        "outputId": "07fb21f4-2d9b-40ac-9225-fbacfbbd22ad"
      },
      "source": [
        "# Function: main\n",
        "#\n",
        "#    Description:  This is the main function of the program\n",
        "#                  On executing this function, all the functions declared inside will be called. Just like in C, C++, etc.\n",
        "#\n",
        "#    Parameter:    None\n",
        "#\n",
        "#    Result:       Calls every function declared inside it.\n",
        "#   \n",
        "#    Author:       Tanu Nanda Prabhu\n",
        "\n",
        "if __name__ == \"__main__\":\n",
        "\n",
        "    resolution = resolution()    # Calling the resolution() and storing the result in resolution\n",
        "    fileName = fileName()        # Calling the fileName() and storing the result in fileName\n",
        "    level = intensityLevel()     # Calling the intensityLevel() and storing the result in level"
      ],
      "execution_count": 5,
      "outputs": [
        {
          "output_type": "stream",
          "text": [
            "Enter the number of rows of the input image: 256\n",
            "Enter the number of columns of the input image: 256\n",
            "Enter the file name to read:  rose.raw\n",
            "Enter the file name to save:  rose32.raw\n",
            "Enter the number of intensity levels: 32\n"
          ],
          "name": "stdout"
        }
      ]
    },
    {
      "cell_type": "code",
      "metadata": {
        "id": "_P1P3JkZsmtu",
        "colab_type": "code",
        "colab": {
          "base_uri": "https://localhost:8080/",
          "height": 156
        },
        "outputId": "75ae1d64-f408-46a1-eb4f-b1872c7fcddd"
      },
      "source": [
        "print(\" The 2D array of the original image is: \\n\", img)"
      ],
      "execution_count": 13,
      "outputs": [
        {
          "output_type": "stream",
          "text": [
            " The 2D array of the original image is: \n",
            " [[16 16 16 ... 24 16 16]\n",
            " [16 16 16 ... 16 24 16]\n",
            " [16 16 16 ... 16 16 16]\n",
            " ...\n",
            " [ 0  0  0 ...  8  8  0]\n",
            " [ 0  0  0 ...  8  8  8]\n",
            " [ 8  0  8 ... 16 16 16]]\n"
          ],
          "name": "stdout"
        }
      ]
    },
    {
      "cell_type": "markdown",
      "metadata": {
        "id": "nAsVPFMPspO9",
        "colab_type": "text"
      },
      "source": [
        "\n",
        "\n",
        "---\n",
        "\n"
      ]
    },
    {
      "cell_type": "markdown",
      "metadata": {
        "id": "cj1PkJRospsu",
        "colab_type": "text"
      },
      "source": [
        "4. 16 levels (by setting the four least significant bits of each pixel to 0’s)"
      ]
    },
    {
      "cell_type": "code",
      "metadata": {
        "id": "MbypSdblstGk",
        "colab_type": "code",
        "colab": {
          "base_uri": "https://localhost:8080/",
          "height": 104
        },
        "outputId": "099ffa47-2267-4e7f-9a9d-d78f945e6bb1"
      },
      "source": [
        "# Function: main\n",
        "#\n",
        "#    Description:  This is the main function of the program\n",
        "#                  On executing this function, all the functions declared inside will be called. Just like in C, C++, etc.\n",
        "#\n",
        "#    Parameter:    None\n",
        "#\n",
        "#    Result:       Calls every function declared inside it.\n",
        "#   \n",
        "#    Author:       Tanu Nanda Prabhu\n",
        "\n",
        "if __name__ == \"__main__\":\n",
        "\n",
        "    resolution = resolution()    # Calling the resolution() and storing the result in resolution\n",
        "    fileName = fileName()        # Calling the fileName() and storing the result in fileName\n",
        "    level = intensityLevel()     # Calling the intensityLevel() and storing the result in level"
      ],
      "execution_count": 5,
      "outputs": [
        {
          "output_type": "stream",
          "text": [
            "Enter the number of rows of the input image: 256\n",
            "Enter the number of columns of the input image: 256\n",
            "Enter the file name to read:  rose.raw\n",
            "Enter the file name to save:  rose16.raw\n",
            "Enter the number of intensity levels: 16\n"
          ],
          "name": "stdout"
        }
      ]
    },
    {
      "cell_type": "code",
      "metadata": {
        "id": "_TuJe6UZsuQX",
        "colab_type": "code",
        "colab": {
          "base_uri": "https://localhost:8080/",
          "height": 156
        },
        "outputId": "f0d278b6-16c9-422f-b874-dd75c7f9f242"
      },
      "source": [
        "print(\" The 2D array of the original image is: \\n\", img)"
      ],
      "execution_count": 13,
      "outputs": [
        {
          "output_type": "stream",
          "text": [
            " The 2D array of the original image is: \n",
            " [[16 16 16 ... 16 16 16]\n",
            " [16 16 16 ... 16 16 16]\n",
            " [16 16 16 ... 16 16 16]\n",
            " ...\n",
            " [ 0  0  0 ...  0  0  0]\n",
            " [ 0  0  0 ...  0  0  0]\n",
            " [ 0  0  0 ... 16 16 16]]\n"
          ],
          "name": "stdout"
        }
      ]
    },
    {
      "cell_type": "markdown",
      "metadata": {
        "id": "2yDk1KCRuDEo",
        "colab_type": "text"
      },
      "source": [
        "\n",
        "\n",
        "---\n",
        "\n"
      ]
    },
    {
      "cell_type": "markdown",
      "metadata": {
        "id": "qzTFnPSOuEuk",
        "colab_type": "text"
      },
      "source": [
        "# **Saving the new image into a new file in a raw format**"
      ]
    },
    {
      "cell_type": "code",
      "metadata": {
        "id": "G8HSgy0xuCbI",
        "colab_type": "code",
        "colab": {
          "base_uri": "https://localhost:8080/",
          "height": 52
        },
        "outputId": "fc8c4035-f58b-4d13-cd20-b8a2ac3160d8"
      },
      "source": [
        "# Save the output image\n",
        "print(\"... Save the output image\")\n",
        "img.astype('int8').tofile(fileName[1])\n",
        "print(\"... File successfully saved\")\n",
        "# Closing the file\n",
        "fin.close()"
      ],
      "execution_count": 15,
      "outputs": [
        {
          "output_type": "stream",
          "text": [
            "... Save the output image\n",
            "... File successfully saved\n"
          ],
          "name": "stdout"
        }
      ]
    },
    {
      "cell_type": "markdown",
      "metadata": {
        "id": "OUFbdXoptSWI",
        "colab_type": "text"
      },
      "source": [
        "\n",
        "\n",
        "> **Note**: While entering the input. For example if the resolution of an image is **1600x1000**, then it means the **width** is **1600** and the **height** is **1000**. Similarly in the above program the **rows** would be **1000** and the **columns** would be **1600**. \n",
        "\n",
        "\n",
        "\n",
        "\n",
        "\n",
        "---\n",
        "\n"
      ]
    }
  ]
}