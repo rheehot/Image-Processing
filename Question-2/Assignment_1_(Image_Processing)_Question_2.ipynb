{
  "nbformat": 4,
  "nbformat_minor": 0,
  "metadata": {
    "colab": {
      "name": "Assignment-1 (Image Processing)-Question-2.ipynb",
      "provenance": [],
      "collapsed_sections": []
    },
    "kernelspec": {
      "name": "python3",
      "display_name": "Python 3"
    }
  },
  "cells": [
    {
      "cell_type": "markdown",
      "metadata": {
        "id": "g-3rSztUEFb2",
        "colab_type": "text"
      },
      "source": [
        "# **CS825-001, Spring/Summer 2020**\n",
        "\n",
        "## **Assignment 1 - Question 2**\n",
        "\n",
        "### **Assigned Date: Saturday, May 16, 2020**\n",
        "\n",
        "### **Due Date: Tuesday, May 28, 2020**\n"
      ]
    },
    {
      "cell_type": "markdown",
      "metadata": {
        "id": "sf_fECqoNYvz",
        "colab_type": "text"
      },
      "source": [
        "# **Question - 1**\n",
        "\n",
        "### Write a program that reads a grayscale image in raw format from a file; resize the image to a specified resolution using the **weighted average resampling method**; and save the new image into a new file in raw format. \n",
        "\n",
        "1. Input image filename: “**rose.raw**”\n",
        "   *   Format: **grayscale**\n",
        "   *   Original resolution: **256x256**\n",
        "   *   New resolution: **500x500**\n",
        "\n",
        "\n",
        "2. Input image filename: “**winter-landscape-1600x1000-grayscale.raw**”\n",
        "\n",
        "    *  Format: **grayscale**\n",
        "    *  Original resolution: **1600x1000**\n",
        "    *  New resolution: **1000x625**\n",
        "\n",
        "\n",
        "3. Input image filename: “**winter-landscape-1600x1000-grayscale.raw**”\n",
        "\n",
        "    *  Format: **grayscale**\n",
        "    *  Original resolution: **1600x1000**\n",
        "    *  New resolution: **640x400**\n",
        "\n"
      ]
    },
    {
      "cell_type": "markdown",
      "metadata": {
        "id": "TYfEeREFcJQ9",
        "colab_type": "text"
      },
      "source": [
        "\n",
        "\n",
        "---\n",
        "\n"
      ]
    },
    {
      "cell_type": "markdown",
      "metadata": {
        "id": "7Xb_ciV-YqT0",
        "colab_type": "text"
      },
      "source": [
        "# **Solution**\n",
        "\n",
        "# **Input Functions**\n",
        "\n",
        "Below are some of the functions that take the input from the user such as the resolution (rows, columns) and filename of the image.\n",
        "\n",
        "\n",
        "### **Importing Libraries**\n",
        "\n",
        "Below are some of the functions that take the input from the user such as the resolution (rows, columns) and filename of the image.\n",
        "\n",
        "\n",
        "* The only reason that `numpy` library is used to convert the raw image into **array of pixels**. Mainly used to **store the values in an array**.\n",
        "\n",
        "* The only reason that `more_itertools` is used because of its `numeric_range` function. A extension of the built-in `range()` function whose arguments can be any orderable numeric type. With only stop specified, start defaults to 0 and step defaults to 1. The output items will match the type of stop. To be more precise, this library helps the for loop to loop around decimal numbers."
      ]
    },
    {
      "cell_type": "code",
      "metadata": {
        "id": "Y6P3hsAXN3UI",
        "colab_type": "code",
        "colab": {}
      },
      "source": [
        "# Necessary libraries used for this assignment\n",
        "import numpy as np\n",
        "import more_itertools as mit"
      ],
      "execution_count": 0,
      "outputs": []
    },
    {
      "cell_type": "markdown",
      "metadata": {
        "id": "PIB6vDuIcQzj",
        "colab_type": "text"
      },
      "source": [
        "### **Defining all the input functions**"
      ]
    },
    {
      "cell_type": "code",
      "metadata": {
        "id": "jFW1lM9GQ9lc",
        "colab_type": "code",
        "colab": {}
      },
      "source": [
        "# Function: Resolution\n",
        "#\n",
        "#    Description:  This functions takes the input from the user. \n",
        "#                  User should enter the number of rows, columns of the old image and the new image.\n",
        "#\n",
        "#    Parameter:    None\n",
        "#\n",
        "#    Result:       returns the value of the inputted rows and columns of the old and new image.\n",
        "#   \n",
        "#    Author:       Tanu Nanda Prabhu\n",
        "\n",
        "def resolution():\n",
        "\n",
        "    # Explicitly typed-casted to intergers, because the rows and columns of the images must an integer. \n",
        "    ROWS = int(input(\"Enter the number of rows of the old image: \"))\n",
        "    COLS = int(input(\"Enter the number of columns of the old image: \"))\n",
        "\n",
        "    ROWSNEW = int(input(\"Enter the number of rows of the new image: \"))\n",
        "    COLSNEW = int(input(\"Enter the number of columns of the new image: \"))\n",
        "\n",
        "    return ROWS, COLS, ROWSNEW, COLSNEW"
      ],
      "execution_count": 0,
      "outputs": []
    },
    {
      "cell_type": "code",
      "metadata": {
        "id": "19fwCPsHT8Nn",
        "colab_type": "code",
        "colab": {}
      },
      "source": [
        "# Function: FileName\n",
        "#\n",
        "#    Description:  This functions takes the input from the user. \n",
        "#                  User should enter the filename along with the path to read and save.\n",
        "#\n",
        "#    Parameter:    None\n",
        "#\n",
        "#    Result:       returns the name of the file to read and save.\n",
        "#   \n",
        "#    Author:       Tanu Nanda Prabhu\n",
        "\n",
        "def fileName():\n",
        " \n",
        "    filename_to_read = input(\"Enter the file name to read:  \")\n",
        "    filename_to_save = input(\"Enter the file name to save:  \")\n",
        "    return filename_to_read, filename_to_save"
      ],
      "execution_count": 0,
      "outputs": []
    },
    {
      "cell_type": "code",
      "metadata": {
        "id": "jo88wTj6mgIR",
        "colab_type": "code",
        "colab": {}
      },
      "source": [
        "# Function: main\n",
        "#\n",
        "#    Description:  This is the main function of the program\n",
        "#                  On executing this function, all the functions declared inside will be called. Just like in C, C++, etc.\n",
        "#\n",
        "#    Parameter:    None\n",
        "#\n",
        "#    Result:       Calls every function declared inside it.\n",
        "#   \n",
        "#    Author:       Tanu Nanda Prabhu\n",
        "\n",
        "if __name__ == \"__main__\":\n",
        "\n",
        "    resolution = resolution()    # Calling the resolution() and storing the result in resolution\n",
        "    fileName = fileName()        # Calling the fileName() and storing the result in fileName"
      ],
      "execution_count": 0,
      "outputs": []
    },
    {
      "cell_type": "markdown",
      "metadata": {
        "id": "GYWOR23ocK4R",
        "colab_type": "text"
      },
      "source": [
        "\n",
        "\n",
        "---\n",
        "\n"
      ]
    },
    {
      "cell_type": "markdown",
      "metadata": {
        "id": "oSRh6rfYNoru",
        "colab_type": "text"
      },
      "source": [
        "# **Reading a grayscale image in raw format from a file.**"
      ]
    },
    {
      "cell_type": "code",
      "metadata": {
        "id": "L97FVyTsOB5T",
        "colab_type": "code",
        "outputId": "a60aee91-d715-400e-feb6-82b31820cd75",
        "colab": {
          "base_uri": "https://localhost:8080/",
          "height": 35
        }
      },
      "source": [
        "# Initialising rows and column values for the image\n",
        "ROWS = resolution[0]        # This are hardcoded values for the image resolution\n",
        "COLS =  resolution[1]       # This particular image would contain (256*256) meaning 65,536 pixels\n",
        "\n",
        "# Opening the input image file (RAW format)\n",
        "fin = open(fileName[0])                        # Calling a filename which returns the name of \n",
        "print(fin)"
      ],
      "execution_count": 30,
      "outputs": [
        {
          "output_type": "stream",
          "text": [
            "<_io.TextIOWrapper name='winter-landscape-1600x1000-grayscale.raw' mode='r' encoding='UTF-8'>\n"
          ],
          "name": "stdout"
        }
      ]
    },
    {
      "cell_type": "markdown",
      "metadata": {
        "id": "wV-hmjeIOI2D",
        "colab_type": "text"
      },
      "source": [
        "Now we need to construct an 2D array from the raw data (image). A highly efficient way of reading binary data with a know data-type must be used, this can be done with the help of **numpy library**. "
      ]
    },
    {
      "cell_type": "code",
      "metadata": {
        "id": "P7yYOh8EOJXM",
        "colab_type": "code",
        "outputId": "7bbbfdd7-13e5-44fd-f044-7b1293f93975",
        "colab": {
          "base_uri": "https://localhost:8080/",
          "height": 69
        }
      },
      "source": [
        "# Loading the input image\n",
        "print(\"... Load input image\")\n",
        "img = np.fromfile(fin, dtype = np.uint8, count = ROWS * COLS)\n",
        "print(\"Old dimemsion of the array:\", img.ndim)\n",
        "print(img.size)"
      ],
      "execution_count": 31,
      "outputs": [
        {
          "output_type": "stream",
          "text": [
            "... Load input image\n",
            "Old dimemsion of the array: 1\n",
            "1600000\n"
          ],
          "name": "stdout"
        }
      ]
    },
    {
      "cell_type": "markdown",
      "metadata": {
        "id": "KZRUSNBNONy0",
        "colab_type": "text"
      },
      "source": [
        "There is one way that we can convert the 1D array to 2D array such as floor dividing the total number of pixels with rows and columns of the image or columns and columns (either is fine). This can be written with the help of a formula :\n",
        "\n",
        "`img = tp // (cols, cols)`\n",
        "\n",
        "**tp** = total pixels; **rows** and **cols** represents rows and coloumns of the image. The reason we are using floor divison rather than division because we need to round off the values as a whole number.\n",
        "\n"
      ]
    },
    {
      "cell_type": "code",
      "metadata": {
        "id": "uFwc-jDEOPpE",
        "colab_type": "code",
        "outputId": "f317a72b-591e-47b1-ee0a-e7c7cb50bef6",
        "colab": {
          "base_uri": "https://localhost:8080/",
          "height": 225
        }
      },
      "source": [
        "# Conversion from 1D to 2D array\n",
        "img.shape = (img.size // COLS, COLS)\n",
        "print(\"New dimension of the array:\", img.ndim)\n",
        "print(\"----------------------------------------------------\")\n",
        "print(\" The 2D array of the original image is: \\n\", img)\n",
        "print(\"----------------------------------------------------\")\n",
        "print(\"The shape of the original image array is: \", img.shape)"
      ],
      "execution_count": 32,
      "outputs": [
        {
          "output_type": "stream",
          "text": [
            "New dimension of the array: 2\n",
            "----------------------------------------------------\n",
            " The 2D array of the original image is: \n",
            " [[240 240 240 ... 230 230 230]\n",
            " [240 240 239 ... 230 229 229]\n",
            " [240 239 238 ... 231 232 232]\n",
            " ...\n",
            " [ 50  50  50 ...  50  50  50]\n",
            " [ 50  50  50 ...  50  50  50]\n",
            " [ 50  50  50 ...  50  50  50]]\n",
            "----------------------------------------------------\n",
            "The shape of the original image array is:  (1000, 1600)\n"
          ],
          "name": "stdout"
        }
      ]
    },
    {
      "cell_type": "code",
      "metadata": {
        "id": "81jsrJWtgkP0",
        "colab_type": "code",
        "outputId": "cbb45e77-c76c-4acd-ae24-37f013a36cb2",
        "colab": {
          "base_uri": "https://localhost:8080/",
          "height": 35
        }
      },
      "source": [
        "# This is an extra step, creating a empty 2D array, with new rows and columns (height and width)\n",
        "ROWSNEW = resolution[2]\n",
        "COLSNEW = resolution[3]\n",
        "imgNew = np.zeros([ROWSNEW, COLSNEW])\n",
        "\n",
        "# Converting the array into integer\n",
        "imgNew = imgNew.astype(int)\n",
        "print(\"The shape of the new Image array is: \", imgNew.shape)"
      ],
      "execution_count": 33,
      "outputs": [
        {
          "output_type": "stream",
          "text": [
            "The shape of the new Image array is:  (400, 640)\n"
          ],
          "name": "stdout"
        }
      ]
    },
    {
      "cell_type": "markdown",
      "metadata": {
        "id": "80YpnGDCgecn",
        "colab_type": "text"
      },
      "source": [
        "\n",
        "\n",
        "---\n",
        "\n"
      ]
    },
    {
      "cell_type": "markdown",
      "metadata": {
        "id": "BReXSIpDOVzZ",
        "colab_type": "text"
      },
      "source": [
        "# **Resizing the image to a specified resolution using weighted average resampling method**"
      ]
    },
    {
      "cell_type": "markdown",
      "metadata": {
        "id": "PhG2u_qQOWSz",
        "colab_type": "text"
      },
      "source": [
        "## **Resampling the image**"
      ]
    },
    {
      "cell_type": "code",
      "metadata": {
        "id": "4HhCmao1Od5X",
        "colab_type": "code",
        "colab": {}
      },
      "source": [
        "# Function: Resampling\n",
        "#\n",
        "#   Parameter: img – the original image\n",
        "#              N – the number of columns\n",
        "#              M – the number rows\n",
        "#              x, y – the position for resampling\n",
        "#\n",
        "#   Result:    resampled intensity value at (x,y) position\n",
        "\n",
        "def resampling(img, N, M, x, y):\n",
        "\n",
        "    i = int(x)   # truncation\n",
        "    j = int(y)   # truncation\n",
        "    \n",
        "    s = (x - i)\n",
        "    t = (y - j)\n",
        "\n",
        "    # Displaying the values for inspection\n",
        "    # With the help of this we can display few points around the center of the image\n",
        "    # This is mainly used for debugging purpose. (Credits to my professor for providing the code)\n",
        "    if(x >= (N/2-1) and x <= (N/2+1) and y >=(M/2-1) and y <= (M/2+1)):\n",
        "\n",
        "       print(x, y, i, j, s, t)\n",
        "       print(\"----------------------------------------------------\")\n",
        "       print(img[j][i], img[j][i+1], img[j+1][i], img[j+1][i+1])\n",
        "       print(\"----------------------------------------------------\")\n",
        "\n",
        "    \n",
        "    result = img[j,i] * (1.0-s) * (1.0-t) + img[j,i+1] * s * (1.0-t) + img[j+1,i] * (1.0-s) * t + img[j+1,i+1] * s * t\n",
        "\n",
        "    # Since we don't want the intensity values in float, we can safely explicitly type cast it to intergers as shown below\n",
        "    return int(result)"
      ],
      "execution_count": 0,
      "outputs": []
    },
    {
      "cell_type": "markdown",
      "metadata": {
        "id": "r3lQv3YEOenA",
        "colab_type": "text"
      },
      "source": [
        "## **Resizing the image**"
      ]
    },
    {
      "cell_type": "code",
      "metadata": {
        "id": "n-BQ7lrjOgHa",
        "colab_type": "code",
        "colab": {}
      },
      "source": [
        "# Function: Image Resizing\n",
        "#\n",
        "#   Parameters: img – original image\n",
        "#               N, M – columns and rows of the original image\n",
        "#               imgNew – resized the new image\n",
        "#               N1, M1 – columns and rows of the new image\n",
        "\n",
        "\n",
        "def resizeImage(img, imgNew, N, M, N1, M1):\n",
        "    \n",
        "    K = 2.0    # Choosing the K and D values by trial and error method.\n",
        "    d = 0.9\n",
        "    x = 0.0    \n",
        "    y = 0.0\n",
        "\n",
        "    Dx = float(N - 1)/(N1 - 1)    # Dx, Dy are the interval lengths for resampling\n",
        "    Dy = float(M - 1)/(M1 - 1)    # Double data type are not supported in python, so using float is preferable\n",
        "\n",
        "    for k in range(M1):\n",
        "        y += Dy\n",
        "        for l in range(N1):\n",
        "            K2 = int(K/2)\n",
        "            sum = 0.0\n",
        "\n",
        "            for s in mit.numeric_range(-K2, K2):\n",
        "\n",
        "                for t in mit.numeric_range(-K2, K2):\n",
        "                    # To avoid array index out of bound exception, since the rows and columns of original image is 256 and 256.\n",
        "                    # The resampling methods tries to access the 257 rows and 257 columns and so on...\n",
        "                    # So we need to manually set the thresholds and then break the condition once if the control come here and continue looping\n",
        "                    if(x+K2*d >= COLS-1 or y+K2*d >= ROWS-1 ):\n",
        "                        break\n",
        "\n",
        "                    sum = sum + resampling(img, N, M, x+K2*d,y+K2*d)\n",
        "\n",
        "            imgNew[k][l] = sum / (K * K)   \n",
        "            x = x+Dx\n",
        "\n",
        "        # If we don't reinitialize the x value to 0.0 then at the end we will get a blank black image. So doing this is compulsory\n",
        "        x = 0.0\n",
        "        \n",
        "    # Printing the newly image array\n",
        "    print(imgNew)\n",
        "    "
      ],
      "execution_count": 0,
      "outputs": []
    },
    {
      "cell_type": "markdown",
      "metadata": {
        "id": "G67cT7xFjNuK",
        "colab_type": "text"
      },
      "source": [
        "# **Testing the program**\n",
        "\n",
        "1. Input image filename: “rose.raw”\n",
        "\n",
        "*   Format: grayscale\n",
        "*   Original resolution: 256x256\n",
        "*   New resolution: 500x500\n",
        "\n"
      ]
    },
    {
      "cell_type": "code",
      "metadata": {
        "id": "EyXXwXRWkN7D",
        "colab_type": "code",
        "colab": {
          "base_uri": "https://localhost:8080/",
          "height": 121
        },
        "outputId": "c0ef62a7-f208-4b37-c18d-923ed11f135a"
      },
      "source": [
        "# Function: main\n",
        "#\n",
        "#    Description:  This is the main function of the program\n",
        "#                  On executing this function, all the functions declared inside will be called. Just like in C, C++, etc.\n",
        "#\n",
        "#    Parameter:    None\n",
        "#\n",
        "#    Result:       Calls every function declared inside it.\n",
        "#   \n",
        "#    Author:       Tanu Nanda Prabhu\n",
        "\n",
        "if __name__ == \"__main__\":\n",
        "\n",
        "    resolution = resolution()    # Calling the resolution() and storing the result in resolution\n",
        "    fileName = fileName()        # Calling the fileName() and storing the result in fileName"
      ],
      "execution_count": 4,
      "outputs": [
        {
          "output_type": "stream",
          "text": [
            "Enter the number of rows of the old image: 256\n",
            "Enter the number of columns of the old image: 256\n",
            "Enter the number of rows of the new image: 500\n",
            "Enter the number of columns of the new image: 500\n",
            "Enter the file name to read:  rose.raw\n",
            "Enter the file name to save:  rose500x500-average.raw\n"
          ],
          "name": "stdout"
        }
      ]
    },
    {
      "cell_type": "code",
      "metadata": {
        "id": "Cm7zL9BVP7eX",
        "colab_type": "code",
        "outputId": "9e1a51e4-befd-4d00-9de5-00013635039f",
        "colab": {
          "base_uri": "https://localhost:8080/",
          "height": 1000
        }
      },
      "source": [
        "resizeImage(img, imgNew, resolution[1], resolution[0], resolution[3], resolution[2])"
      ],
      "execution_count": 11,
      "outputs": [
        {
          "output_type": "stream",
          "text": [
            "127.12244488978 127.12244488978 127 127 0.12244488977999879 0.12244488977999879\n",
            "----------------------------------------------------\n",
            "133 151 135 140\n",
            "----------------------------------------------------\n",
            "127.12244488978 127.12244488978 127 127 0.12244488977999879 0.12244488977999879\n",
            "----------------------------------------------------\n",
            "133 151 135 140\n",
            "----------------------------------------------------\n",
            "127.12244488978 127.12244488978 127 127 0.12244488977999879 0.12244488977999879\n",
            "----------------------------------------------------\n",
            "133 151 135 140\n",
            "----------------------------------------------------\n",
            "127.12244488978 127.12244488978 127 127 0.12244488977999879 0.12244488977999879\n",
            "----------------------------------------------------\n",
            "133 151 135 140\n",
            "----------------------------------------------------\n",
            "127.63346693386818 127.12244488978 127 127 0.6334669338681778 0.12244488977999879\n",
            "----------------------------------------------------\n",
            "133 151 135 140\n",
            "----------------------------------------------------\n",
            "127.63346693386818 127.12244488978 127 127 0.6334669338681778 0.12244488977999879\n",
            "----------------------------------------------------\n",
            "133 151 135 140\n",
            "----------------------------------------------------\n",
            "127.63346693386818 127.12244488978 127 127 0.6334669338681778 0.12244488977999879\n",
            "----------------------------------------------------\n",
            "133 151 135 140\n",
            "----------------------------------------------------\n",
            "127.63346693386818 127.12244488978 127 127 0.6334669338681778 0.12244488977999879\n",
            "----------------------------------------------------\n",
            "133 151 135 140\n",
            "----------------------------------------------------\n",
            "128.14448897795634 127.12244488978 128 127 0.14448897795634252 0.12244488977999879\n",
            "----------------------------------------------------\n",
            "151 160 140 152\n",
            "----------------------------------------------------\n",
            "128.14448897795634 127.12244488978 128 127 0.14448897795634252 0.12244488977999879\n",
            "----------------------------------------------------\n",
            "151 160 140 152\n",
            "----------------------------------------------------\n",
            "128.14448897795634 127.12244488978 128 127 0.14448897795634252 0.12244488977999879\n",
            "----------------------------------------------------\n",
            "151 160 140 152\n",
            "----------------------------------------------------\n",
            "128.14448897795634 127.12244488978 128 127 0.14448897795634252 0.12244488977999879\n",
            "----------------------------------------------------\n",
            "151 160 140 152\n",
            "----------------------------------------------------\n",
            "128.65551102204452 127.12244488978 128 127 0.6555110220445215 0.12244488977999879\n",
            "----------------------------------------------------\n",
            "151 160 140 152\n",
            "----------------------------------------------------\n",
            "128.65551102204452 127.12244488978 128 127 0.6555110220445215 0.12244488977999879\n",
            "----------------------------------------------------\n",
            "151 160 140 152\n",
            "----------------------------------------------------\n",
            "128.65551102204452 127.12244488978 128 127 0.6555110220445215 0.12244488977999879\n",
            "----------------------------------------------------\n",
            "151 160 140 152\n",
            "----------------------------------------------------\n",
            "128.65551102204452 127.12244488978 128 127 0.6555110220445215 0.12244488977999879\n",
            "----------------------------------------------------\n",
            "151 160 140 152\n",
            "----------------------------------------------------\n",
            "127.12244488978 127.63346693386818 127 127 0.12244488977999879 0.6334669338681778\n",
            "----------------------------------------------------\n",
            "133 151 135 140\n",
            "----------------------------------------------------\n",
            "127.12244488978 127.63346693386818 127 127 0.12244488977999879 0.6334669338681778\n",
            "----------------------------------------------------\n",
            "133 151 135 140\n",
            "----------------------------------------------------\n",
            "127.12244488978 127.63346693386818 127 127 0.12244488977999879 0.6334669338681778\n",
            "----------------------------------------------------\n",
            "133 151 135 140\n",
            "----------------------------------------------------\n",
            "127.12244488978 127.63346693386818 127 127 0.12244488977999879 0.6334669338681778\n",
            "----------------------------------------------------\n",
            "133 151 135 140\n",
            "----------------------------------------------------\n",
            "127.63346693386818 127.63346693386818 127 127 0.6334669338681778 0.6334669338681778\n",
            "----------------------------------------------------\n",
            "133 151 135 140\n",
            "----------------------------------------------------\n",
            "127.63346693386818 127.63346693386818 127 127 0.6334669338681778 0.6334669338681778\n",
            "----------------------------------------------------\n",
            "133 151 135 140\n",
            "----------------------------------------------------\n",
            "127.63346693386818 127.63346693386818 127 127 0.6334669338681778 0.6334669338681778\n",
            "----------------------------------------------------\n",
            "133 151 135 140\n",
            "----------------------------------------------------\n",
            "127.63346693386818 127.63346693386818 127 127 0.6334669338681778 0.6334669338681778\n",
            "----------------------------------------------------\n",
            "133 151 135 140\n",
            "----------------------------------------------------\n",
            "128.14448897795634 127.63346693386818 128 127 0.14448897795634252 0.6334669338681778\n",
            "----------------------------------------------------\n",
            "151 160 140 152\n",
            "----------------------------------------------------\n",
            "128.14448897795634 127.63346693386818 128 127 0.14448897795634252 0.6334669338681778\n",
            "----------------------------------------------------\n",
            "151 160 140 152\n",
            "----------------------------------------------------\n",
            "128.14448897795634 127.63346693386818 128 127 0.14448897795634252 0.6334669338681778\n",
            "----------------------------------------------------\n",
            "151 160 140 152\n",
            "----------------------------------------------------\n",
            "128.14448897795634 127.63346693386818 128 127 0.14448897795634252 0.6334669338681778\n",
            "----------------------------------------------------\n",
            "151 160 140 152\n",
            "----------------------------------------------------\n",
            "128.65551102204452 127.63346693386818 128 127 0.6555110220445215 0.6334669338681778\n",
            "----------------------------------------------------\n",
            "151 160 140 152\n",
            "----------------------------------------------------\n",
            "128.65551102204452 127.63346693386818 128 127 0.6555110220445215 0.6334669338681778\n",
            "----------------------------------------------------\n",
            "151 160 140 152\n",
            "----------------------------------------------------\n",
            "128.65551102204452 127.63346693386818 128 127 0.6555110220445215 0.6334669338681778\n",
            "----------------------------------------------------\n",
            "151 160 140 152\n",
            "----------------------------------------------------\n",
            "128.65551102204452 127.63346693386818 128 127 0.6555110220445215 0.6334669338681778\n",
            "----------------------------------------------------\n",
            "151 160 140 152\n",
            "----------------------------------------------------\n",
            "127.12244488978 128.14448897795634 127 128 0.12244488977999879 0.14448897795634252\n",
            "----------------------------------------------------\n",
            "135 140 137 137\n",
            "----------------------------------------------------\n",
            "127.12244488978 128.14448897795634 127 128 0.12244488977999879 0.14448897795634252\n",
            "----------------------------------------------------\n",
            "135 140 137 137\n",
            "----------------------------------------------------\n",
            "127.12244488978 128.14448897795634 127 128 0.12244488977999879 0.14448897795634252\n",
            "----------------------------------------------------\n",
            "135 140 137 137\n",
            "----------------------------------------------------\n",
            "127.12244488978 128.14448897795634 127 128 0.12244488977999879 0.14448897795634252\n",
            "----------------------------------------------------\n",
            "135 140 137 137\n",
            "----------------------------------------------------\n",
            "127.63346693386818 128.14448897795634 127 128 0.6334669338681778 0.14448897795634252\n",
            "----------------------------------------------------\n",
            "135 140 137 137\n",
            "----------------------------------------------------\n",
            "127.63346693386818 128.14448897795634 127 128 0.6334669338681778 0.14448897795634252\n",
            "----------------------------------------------------\n",
            "135 140 137 137\n",
            "----------------------------------------------------\n",
            "127.63346693386818 128.14448897795634 127 128 0.6334669338681778 0.14448897795634252\n",
            "----------------------------------------------------\n",
            "135 140 137 137\n",
            "----------------------------------------------------\n",
            "127.63346693386818 128.14448897795634 127 128 0.6334669338681778 0.14448897795634252\n",
            "----------------------------------------------------\n",
            "135 140 137 137\n",
            "----------------------------------------------------\n",
            "128.14448897795634 128.14448897795634 128 128 0.14448897795634252 0.14448897795634252\n",
            "----------------------------------------------------\n",
            "140 152 137 142\n",
            "----------------------------------------------------\n",
            "128.14448897795634 128.14448897795634 128 128 0.14448897795634252 0.14448897795634252\n",
            "----------------------------------------------------\n",
            "140 152 137 142\n",
            "----------------------------------------------------\n",
            "128.14448897795634 128.14448897795634 128 128 0.14448897795634252 0.14448897795634252\n",
            "----------------------------------------------------\n",
            "140 152 137 142\n",
            "----------------------------------------------------\n",
            "128.14448897795634 128.14448897795634 128 128 0.14448897795634252 0.14448897795634252\n",
            "----------------------------------------------------\n",
            "140 152 137 142\n",
            "----------------------------------------------------\n",
            "128.65551102204452 128.14448897795634 128 128 0.6555110220445215 0.14448897795634252\n",
            "----------------------------------------------------\n",
            "140 152 137 142\n",
            "----------------------------------------------------\n",
            "128.65551102204452 128.14448897795634 128 128 0.6555110220445215 0.14448897795634252\n",
            "----------------------------------------------------\n",
            "140 152 137 142\n",
            "----------------------------------------------------\n",
            "128.65551102204452 128.14448897795634 128 128 0.6555110220445215 0.14448897795634252\n",
            "----------------------------------------------------\n",
            "140 152 137 142\n",
            "----------------------------------------------------\n",
            "128.65551102204452 128.14448897795634 128 128 0.6555110220445215 0.14448897795634252\n",
            "----------------------------------------------------\n",
            "140 152 137 142\n",
            "----------------------------------------------------\n",
            "127.12244488978 128.65551102204452 127 128 0.12244488977999879 0.6555110220445215\n",
            "----------------------------------------------------\n",
            "135 140 137 137\n",
            "----------------------------------------------------\n",
            "127.12244488978 128.65551102204452 127 128 0.12244488977999879 0.6555110220445215\n",
            "----------------------------------------------------\n",
            "135 140 137 137\n",
            "----------------------------------------------------\n",
            "127.12244488978 128.65551102204452 127 128 0.12244488977999879 0.6555110220445215\n",
            "----------------------------------------------------\n",
            "135 140 137 137\n",
            "----------------------------------------------------\n",
            "127.12244488978 128.65551102204452 127 128 0.12244488977999879 0.6555110220445215\n",
            "----------------------------------------------------\n",
            "135 140 137 137\n",
            "----------------------------------------------------\n",
            "127.63346693386818 128.65551102204452 127 128 0.6334669338681778 0.6555110220445215\n",
            "----------------------------------------------------\n",
            "135 140 137 137\n",
            "----------------------------------------------------\n",
            "127.63346693386818 128.65551102204452 127 128 0.6334669338681778 0.6555110220445215\n",
            "----------------------------------------------------\n",
            "135 140 137 137\n",
            "----------------------------------------------------\n",
            "127.63346693386818 128.65551102204452 127 128 0.6334669338681778 0.6555110220445215\n",
            "----------------------------------------------------\n",
            "135 140 137 137\n",
            "----------------------------------------------------\n",
            "127.63346693386818 128.65551102204452 127 128 0.6334669338681778 0.6555110220445215\n",
            "----------------------------------------------------\n",
            "135 140 137 137\n",
            "----------------------------------------------------\n",
            "128.14448897795634 128.65551102204452 128 128 0.14448897795634252 0.6555110220445215\n",
            "----------------------------------------------------\n",
            "140 152 137 142\n",
            "----------------------------------------------------\n",
            "128.14448897795634 128.65551102204452 128 128 0.14448897795634252 0.6555110220445215\n",
            "----------------------------------------------------\n",
            "140 152 137 142\n",
            "----------------------------------------------------\n",
            "128.14448897795634 128.65551102204452 128 128 0.14448897795634252 0.6555110220445215\n",
            "----------------------------------------------------\n",
            "140 152 137 142\n",
            "----------------------------------------------------\n",
            "128.14448897795634 128.65551102204452 128 128 0.14448897795634252 0.6555110220445215\n",
            "----------------------------------------------------\n",
            "140 152 137 142\n",
            "----------------------------------------------------\n",
            "128.65551102204452 128.65551102204452 128 128 0.6555110220445215 0.6555110220445215\n",
            "----------------------------------------------------\n",
            "140 152 137 142\n",
            "----------------------------------------------------\n",
            "128.65551102204452 128.65551102204452 128 128 0.6555110220445215 0.6555110220445215\n",
            "----------------------------------------------------\n",
            "140 152 137 142\n",
            "----------------------------------------------------\n",
            "128.65551102204452 128.65551102204452 128 128 0.6555110220445215 0.6555110220445215\n",
            "----------------------------------------------------\n",
            "140 152 137 142\n",
            "----------------------------------------------------\n",
            "128.65551102204452 128.65551102204452 128 128 0.6555110220445215 0.6555110220445215\n",
            "----------------------------------------------------\n",
            "140 152 137 142\n",
            "----------------------------------------------------\n",
            "[[18 18 18 ... 22  0  0]\n",
            " [18 18 18 ... 21  0  0]\n",
            " [18 18 18 ... 21  0  0]\n",
            " ...\n",
            " [ 0  0  0 ...  0  0  0]\n",
            " [ 0  0  0 ...  0  0  0]\n",
            " [ 0  0  0 ...  0  0  0]]\n"
          ],
          "name": "stdout"
        }
      ]
    },
    {
      "cell_type": "markdown",
      "metadata": {
        "id": "R2wisQyskPyH",
        "colab_type": "text"
      },
      "source": [
        "\n",
        "\n",
        "---\n",
        "\n"
      ]
    },
    {
      "cell_type": "markdown",
      "metadata": {
        "id": "zg4jLj2SkkWe",
        "colab_type": "text"
      },
      "source": [
        "2. Input image filename: “winter-landscape-1600x1000-grayscale.raw”\n",
        "\n",
        "*  Format: grayscale\n",
        "*  Original resolution: 1600x1000\n",
        "*  New resolution: 1000x625\n",
        "\n",
        "\n"
      ]
    },
    {
      "cell_type": "code",
      "metadata": {
        "id": "9ZJlHmHAkSS_",
        "colab_type": "code",
        "colab": {
          "base_uri": "https://localhost:8080/",
          "height": 121
        },
        "outputId": "4ed5f461-1c98-4012-8af1-f44d6285b652"
      },
      "source": [
        "# Function: main\n",
        "#\n",
        "#    Description:  This is the main function of the program\n",
        "#                  On executing this function, all the functions declared inside will be called. Just like in C, C++, etc.\n",
        "#\n",
        "#    Parameter:    None\n",
        "#\n",
        "#    Result:       Calls every function declared inside it.\n",
        "#   \n",
        "#    Author:       Tanu Nanda Prabhu\n",
        "\n",
        "if __name__ == \"__main__\":\n",
        "\n",
        "    resolution = resolution()    # Calling the resolution() and storing the result in resolution\n",
        "    fileName = fileName()        # Calling the fileName() and storing the result in fileName"
      ],
      "execution_count": 16,
      "outputs": [
        {
          "output_type": "stream",
          "text": [
            "Enter the number of rows of the old image: 1000\n",
            "Enter the number of columns of the old image: 1600\n",
            "Enter the number of rows of the new image: 625\n",
            "Enter the number of columns of the new image: 1000\n",
            "Enter the file name to read:  winter-landscape-1600x1000-grayscale.raw\n",
            "Enter the file name to save:  winter-landscape-1000x625-grayscale.raw\n"
          ],
          "name": "stdout"
        }
      ]
    },
    {
      "cell_type": "code",
      "metadata": {
        "id": "Z1tNxCZ1ks51",
        "colab_type": "code",
        "outputId": "66cc4ae9-6335-4987-c506-b4684a45702c",
        "colab": {
          "base_uri": "https://localhost:8080/",
          "height": 416
        }
      },
      "source": [
        "resizeImage(img, imgNew, resolution[1], resolution[0], resolution[3], resolution[2])"
      ],
      "execution_count": 23,
      "outputs": [
        {
          "output_type": "stream",
          "text": [
            "799.5996996997055 500.40000000000185 799 500 0.5996996997055248 0.4000000000018531\n",
            "----------------------------------------------------\n",
            "66 67 66 66\n",
            "----------------------------------------------------\n",
            "799.5996996997055 500.40000000000185 799 500 0.5996996997055248 0.4000000000018531\n",
            "----------------------------------------------------\n",
            "66 67 66 66\n",
            "----------------------------------------------------\n",
            "799.5996996997055 500.40000000000185 799 500 0.5996996997055248 0.4000000000018531\n",
            "----------------------------------------------------\n",
            "66 67 66 66\n",
            "----------------------------------------------------\n",
            "799.5996996997055 500.40000000000185 799 500 0.5996996997055248 0.4000000000018531\n",
            "----------------------------------------------------\n",
            "66 67 66 66\n",
            "----------------------------------------------------\n",
            "[[239 238 238 ... 232 233   0]\n",
            " [238 237 237 ... 233 233   0]\n",
            " [236 237 238 ... 232 232   0]\n",
            " ...\n",
            " [ 50  50  50 ...  50  50   0]\n",
            " [  0   0   0 ...   0   0   0]\n",
            " [  0   0   0 ...   0   0   0]]\n"
          ],
          "name": "stdout"
        }
      ]
    },
    {
      "cell_type": "markdown",
      "metadata": {
        "id": "RNMLaiAVkUXl",
        "colab_type": "text"
      },
      "source": [
        "\n",
        "\n",
        "---\n",
        "\n"
      ]
    },
    {
      "cell_type": "markdown",
      "metadata": {
        "id": "_JZknTcIlBnm",
        "colab_type": "text"
      },
      "source": [
        "3. Input image filename: “winter-landscape-1600x1000-grayscale.raw”\n",
        "\n",
        "*  Format: grayscale\n",
        "*  Original resolution: 1600x1000\n",
        "*  New resolution: 640x400"
      ]
    },
    {
      "cell_type": "code",
      "metadata": {
        "id": "C0o1Hn4SkVXm",
        "colab_type": "code",
        "colab": {
          "base_uri": "https://localhost:8080/",
          "height": 121
        },
        "outputId": "963c2570-20b1-4ee5-c946-188d1d5fe434"
      },
      "source": [
        "# Function: main\n",
        "#\n",
        "#    Description:  This is the main function of the program\n",
        "#                  On executing this function, all the functions declared inside will be called. Just like in C, C++, etc.\n",
        "#\n",
        "#    Parameter:    None\n",
        "#\n",
        "#    Result:       Calls every function declared inside it.\n",
        "#   \n",
        "#    Author:       Tanu Nanda Prabhu\n",
        "\n",
        "if __name__ == \"__main__\":\n",
        "\n",
        "    resolution = resolution()    # Calling the resolution() and storing the result in resolution\n",
        "    fileName = fileName()        # Calling the fileName() and storing the result in fileName"
      ],
      "execution_count": 29,
      "outputs": [
        {
          "output_type": "stream",
          "text": [
            "Enter the number of rows of the old image: 1000\n",
            "Enter the number of columns of the old image: 1600\n",
            "Enter the number of rows of the new image: 400\n",
            "Enter the number of columns of the new image: 640\n",
            "Enter the file name to read:  winter-landscape-1600x1000-grayscale.raw\n",
            "Enter the file name to save:  winter-landscape-640x400-grayscale.raw\n"
          ],
          "name": "stdout"
        }
      ]
    },
    {
      "cell_type": "code",
      "metadata": {
        "id": "NZVe6i1slDUF",
        "colab_type": "code",
        "outputId": "43f83cbd-f4a9-49ce-9553-f3adc3395c50",
        "colab": {
          "base_uri": "https://localhost:8080/",
          "height": 416
        }
      },
      "source": [
        "resizeImage(img, imgNew, resolution[1], resolution[0], resolution[3], resolution[2])"
      ],
      "execution_count": 36,
      "outputs": [
        {
          "output_type": "stream",
          "text": [
            "799.1488262910816 499.1481203007522 799 499 0.14882629108160472 0.14812030075222538\n",
            "----------------------------------------------------\n",
            "67 67 66 67\n",
            "----------------------------------------------------\n",
            "799.1488262910816 499.1481203007522 799 499 0.14882629108160472 0.14812030075222538\n",
            "----------------------------------------------------\n",
            "67 67 66 67\n",
            "----------------------------------------------------\n",
            "799.1488262910816 499.1481203007522 799 499 0.14882629108160472 0.14812030075222538\n",
            "----------------------------------------------------\n",
            "67 67 66 67\n",
            "----------------------------------------------------\n",
            "799.1488262910816 499.1481203007522 799 499 0.14882629108160472 0.14812030075222538\n",
            "----------------------------------------------------\n",
            "67 67 66 67\n",
            "----------------------------------------------------\n",
            "[[239 238 239 ... 231 233   0]\n",
            " [236 238 239 ... 232 232   0]\n",
            " [239 237 230 ... 233 231   0]\n",
            " ...\n",
            " [ 50  50  50 ...  50  50   0]\n",
            " [  0   0   0 ...   0   0   0]\n",
            " [  0   0   0 ...   0   0   0]]\n"
          ],
          "name": "stdout"
        }
      ]
    },
    {
      "cell_type": "markdown",
      "metadata": {
        "id": "x1oDcm1IkWM5",
        "colab_type": "text"
      },
      "source": [
        "\n",
        "\n",
        "---\n",
        "\n"
      ]
    },
    {
      "cell_type": "markdown",
      "metadata": {
        "id": "Nx9JNPW6ijXm",
        "colab_type": "text"
      },
      "source": [
        "## **Save the new image into a new file in raw format**"
      ]
    },
    {
      "cell_type": "code",
      "metadata": {
        "id": "QhSPRVrhir0Y",
        "colab_type": "code",
        "outputId": "c436cf82-152e-4c8d-d9d8-09b22f7da05e",
        "colab": {
          "base_uri": "https://localhost:8080/",
          "height": 52
        }
      },
      "source": [
        "# Save the output image\n",
        "print(\"... Save the output image\")\n",
        "imgNew.astype(\"int8\").tofile(fileName[1])\n",
        "print(\"... File successfully saved\")\n",
        "fin.close()"
      ],
      "execution_count": 0,
      "outputs": [
        {
          "output_type": "stream",
          "text": [
            "... Save the output image\n",
            "... File successfully saved\n"
          ],
          "name": "stdout"
        }
      ]
    },
    {
      "cell_type": "markdown",
      "metadata": {
        "id": "rXEYbVHZkZKX",
        "colab_type": "text"
      },
      "source": [
        "\n",
        "\n",
        "> **Note**: While entering the input. For example if the resolution of an image is **1600x1000**, then it means the **width** is **1600** and the **height** is **1000**. Similarly in the above program the **rows** would be **1000** and the **columns** would be **1600**. \n",
        "\n",
        "\n",
        "\n"
      ]
    },
    {
      "cell_type": "markdown",
      "metadata": {
        "id": "OFpr1XqnmXX0",
        "colab_type": "text"
      },
      "source": [
        "\n",
        "\n",
        "---\n",
        "\n"
      ]
    }
  ]
}