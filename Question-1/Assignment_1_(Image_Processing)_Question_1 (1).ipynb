{
  "nbformat": 4,
  "nbformat_minor": 0,
  "metadata": {
    "colab": {
      "name": "Assignment-1 (Image Processing)-Question-1.ipynb",
      "provenance": [],
      "collapsed_sections": []
    },
    "kernelspec": {
      "name": "python3",
      "display_name": "Python 3"
    }
  },
  "cells": [
    {
      "cell_type": "markdown",
      "metadata": {
        "id": "1aUaJPG02Ur_",
        "colab_type": "text"
      },
      "source": [
        "# **CS825-001, Spring/Summer 2020**\n",
        "\n",
        "## **Assignment 1 - Question 1**\n",
        "\n",
        "### **Assigned Date: Saturday, May 16, 2020**\n",
        "\n",
        "### **Due Date: Tuesday, May 28, 2020**\n"
      ]
    },
    {
      "cell_type": "markdown",
      "metadata": {
        "id": "0mT_wHjy26Vm",
        "colab_type": "text"
      },
      "source": [
        "# **Question - 1**\n",
        "\n",
        "### Write a program that reads a grayscale image in raw format from a file; resize the image to a specified resolution using the **single point resampling method**; and save the new image into a new file in raw format. Test your program with the following data\n",
        "\n",
        "1. Input image filename: “**rose.raw**”\n",
        "   *   Format: **grayscale**\n",
        "   *   Original resolution: **256x256**\n",
        "   *   New resolution: **500x500**\n",
        "\n",
        "\n",
        "2. Input image filename: “**winter-landscape-1600x1000-grayscale.raw**”\n",
        "\n",
        "    *  Format: **grayscale**\n",
        "    *  Original resolution: **1600x1000**\n",
        "    *  New resolution: **1000x625**\n",
        "\n",
        "\n",
        "3. Input image filename: “**winter-landscape-1600x1000-grayscale.raw**”\n",
        "\n",
        "    *  Format: **grayscale**\n",
        "    *  Original resolution: **1600x1000**\n",
        "    *  New resolution: **640x400**\n",
        "\n",
        "\n",
        "\n",
        "\n",
        "---\n",
        "\n"
      ]
    },
    {
      "cell_type": "markdown",
      "metadata": {
        "id": "gwOmu6Xz35CB",
        "colab_type": "text"
      },
      "source": [
        "# **Solution**\n",
        "\n",
        "# **Input Functions**\n",
        "\n",
        "Below are some of the functions that take the input from the user such as the resolution (rows, columns) and filename of the image.\n",
        "\n",
        "\n",
        "### **Importing Libraries**\n",
        "\n",
        "* The only reason that `numpy` library is used to convert the raw image into **array of pixels**. Mainly used to **store the values in an array**.\n",
        "\n",
        "* The only reason that `more_itertools` is used because of its `numeric_range` function. A extension of the built-in `range()` function whose arguments can be any orderable numeric type. With only stop specified, start defaults to 0 and step defaults to 1. The output items will match the type of stop. To be more precise, this library helps the for loop to loop around decimal numbers."
      ]
    },
    {
      "cell_type": "code",
      "metadata": {
        "id": "uJqSctaW5QX_",
        "colab_type": "code",
        "colab": {}
      },
      "source": [
        "# Necessary libraries used for this assignment\n",
        "import numpy as np"
      ],
      "execution_count": 0,
      "outputs": []
    },
    {
      "cell_type": "markdown",
      "metadata": {
        "id": "pvTc5YTQF9Ql",
        "colab_type": "text"
      },
      "source": [
        "### **Defining all the input functions**"
      ]
    },
    {
      "cell_type": "code",
      "metadata": {
        "id": "9IQwvGaY2OBY",
        "colab_type": "code",
        "colab": {}
      },
      "source": [
        "# Function: Resolution\n",
        "#\n",
        "#    Description:  This functions takes the input from the user. \n",
        "#                  User should enter the number of rows, columns of the old image and the new image.\n",
        "#\n",
        "#    Parameter:    None\n",
        "#\n",
        "#    Result:       returns the value of the inputted rows and columns of the old and new image.\n",
        "#   \n",
        "#    Author:       Tanu Nanda Prabhu\n",
        "\n",
        "def resolution():\n",
        "\n",
        "    # Explicitly typed-casted to intergers, because the rows and columns of the images must an integer. \n",
        "    ROWS = int(input(\"Enter the number of rows of the old image: \"))\n",
        "    COLS = int(input(\"Enter the number of columns of the old image: \"))\n",
        "\n",
        "    ROWSNEW = int(input(\"Enter the number of rows of the new image: \"))\n",
        "    COLSNEW = int(input(\"Enter the number of columns of the new image: \"))\n",
        "\n",
        "    return ROWS, COLS, ROWSNEW, COLSNEW"
      ],
      "execution_count": 0,
      "outputs": []
    },
    {
      "cell_type": "code",
      "metadata": {
        "id": "n9TymrdYGFDe",
        "colab_type": "code",
        "colab": {}
      },
      "source": [
        "# Function: FileName\n",
        "#\n",
        "#    Description:  This functions takes the input from the user. \n",
        "#                  User should enter the filename along with the path to read and save.\n",
        "#\n",
        "#    Parameter:    None\n",
        "#\n",
        "#    Result:       returns the name of the file to read and save.\n",
        "#   \n",
        "#    Author:       Tanu Nanda Prabhu\n",
        "\n",
        "def fileName():\n",
        " \n",
        "    filename_to_read = input(\"Enter the file name to read:  \")\n",
        "    filename_to_save = input(\"Enter the file name to save:  \")\n",
        "    return filename_to_read, filename_to_save"
      ],
      "execution_count": 0,
      "outputs": []
    },
    {
      "cell_type": "code",
      "metadata": {
        "id": "u82Fh8DU-RQx",
        "colab_type": "code",
        "colab": {}
      },
      "source": [
        "# Function: main\n",
        "#\n",
        "#    Description:  This is the main function of the program\n",
        "#                  On executing this function, all the functions declared inside will be called. Just like in C, C++, etc.\n",
        "#\n",
        "#    Parameter:    None\n",
        "#\n",
        "#    Result:       Calls every function declared inside it.\n",
        "#   \n",
        "#    Author:       Tanu Nanda Prabhu\n",
        "\n",
        "if __name__ == \"__main__\":\n",
        "\n",
        "    resolution = resolution()    # Calling the resolution() and storing the result in resolution\n",
        "    fileName = fileName()        # Calling the fileName() and storing the result in fileName"
      ],
      "execution_count": 0,
      "outputs": []
    },
    {
      "cell_type": "markdown",
      "metadata": {
        "id": "nPVzZTw7GT9i",
        "colab_type": "text"
      },
      "source": [
        "\n",
        "\n",
        "---\n",
        "\n"
      ]
    },
    {
      "cell_type": "markdown",
      "metadata": {
        "id": "ZNVzqHJN-Wjc",
        "colab_type": "text"
      },
      "source": [
        "# **Reading a grayscale image in raw format from a file.**"
      ]
    },
    {
      "cell_type": "code",
      "metadata": {
        "id": "zkSBy8ot-S85",
        "colab_type": "code",
        "outputId": "48f21df7-718e-46b5-998c-5a074bcb289a",
        "colab": {
          "base_uri": "https://localhost:8080/",
          "height": 35
        }
      },
      "source": [
        "# Initialising rows and column values for the image\n",
        "ROWS = resolution[0]       \n",
        "COLS =  resolution[1]       # For example a particular image in this case would contain (256*256) rows and columns meaning 65,536 pixels\n",
        "\n",
        "# Opening the input image file (RAW format)\n",
        "fin = open(fileName[0])     # The variable fileName contains the inputted file name to read from  \n",
        "print(fin)"
      ],
      "execution_count": 27,
      "outputs": [
        {
          "output_type": "stream",
          "text": [
            "<_io.TextIOWrapper name='winter-landscape-1600x1000-grayscale.raw' mode='r' encoding='UTF-8'>\n"
          ],
          "name": "stdout"
        }
      ]
    },
    {
      "cell_type": "markdown",
      "metadata": {
        "id": "cKhouj3TGZ90",
        "colab_type": "text"
      },
      "source": [
        "Now, we need to construct an 2D array from the raw data (image). A highly efficient way of reading binary data with a know data-type must be used, this can be done with the help of **numpy library**. "
      ]
    },
    {
      "cell_type": "code",
      "metadata": {
        "id": "Y3MB2bFVJCNm",
        "colab_type": "code",
        "outputId": "2ad0a286-1a86-4d0b-8168-ac345eaedc81",
        "colab": {
          "base_uri": "https://localhost:8080/",
          "height": 69
        }
      },
      "source": [
        "# Loading the input image\n",
        "print(\"... Load input image\")\n",
        "img = np.fromfile(fin, dtype = np.uint8, count = ROWS * COLS)\n",
        "print(\"Dimension of the old image array: \", img.ndim)\n",
        "print(\"Size of the old image array: \", img.size)"
      ],
      "execution_count": 28,
      "outputs": [
        {
          "output_type": "stream",
          "text": [
            "... Load input image\n",
            "Dimension of the old image array:  1\n",
            "Size of the old image array:  1600000\n"
          ],
          "name": "stdout"
        }
      ]
    },
    {
      "cell_type": "markdown",
      "metadata": {
        "id": "4iswDs7sGfMm",
        "colab_type": "text"
      },
      "source": [
        "There is one way that we can convert the 1D array to 2D array such as floor dividing the total number of pixels with rows and columns of the image or columns and columns (either is fine). This can be written with the help of a formula :\n",
        "\n",
        "`img = tp // (cols, cols)`\n",
        "\n",
        "**tp** = total pixels; **cols** represents rows and columns of the image. The reason we are using floor divison rather than division because we need to round off the values as a whole number.\n",
        "\n"
      ]
    },
    {
      "cell_type": "code",
      "metadata": {
        "id": "203mQO8PGhwH",
        "colab_type": "code",
        "outputId": "15ce2760-b2e6-4e8f-9c34-62c2f93093d2",
        "colab": {
          "base_uri": "https://localhost:8080/",
          "height": 225
        }
      },
      "source": [
        "# Conversion from 1D to 2D array\n",
        "img.shape = (img.size // COLS, COLS)\n",
        "print(\"New dimension of the array:\", img.ndim)\n",
        "print(\"----------------------------------------------------\")\n",
        "print(\" The 2D array of the original image is: \\n\", img)\n",
        "print(\"----------------------------------------------------\")\n",
        "print(\"The shape of the original image array is: \", img.shape)"
      ],
      "execution_count": 29,
      "outputs": [
        {
          "output_type": "stream",
          "text": [
            "New dimension of the array: 2\n",
            "----------------------------------------------------\n",
            " The 2D array of the original image is: \n",
            " [[240 240 240 ... 230 230 230]\n",
            " [240 240 239 ... 230 229 229]\n",
            " [240 239 238 ... 231 232 232]\n",
            " ...\n",
            " [ 50  50  50 ...  50  50  50]\n",
            " [ 50  50  50 ...  50  50  50]\n",
            " [ 50  50  50 ...  50  50  50]]\n",
            "----------------------------------------------------\n",
            "The shape of the original image array is:  (1000, 1600)\n"
          ],
          "name": "stdout"
        }
      ]
    },
    {
      "cell_type": "code",
      "metadata": {
        "id": "dVjQ1KKwGjnG",
        "colab_type": "code",
        "outputId": "3b4e0c0e-f0e8-4274-e93f-be1f4ee0310c",
        "colab": {
          "base_uri": "https://localhost:8080/",
          "height": 35
        }
      },
      "source": [
        "# This is an extra step, creating a empty 2D array, with new rows and columns (height and width)\n",
        "ROWSNEW = resolution[2]  # width\n",
        "COLSNEW = resolution[3]  # height\n",
        "imgNew = np.zeros([ROWSNEW, COLSNEW])\n",
        "\n",
        "# Converting the array into integer\n",
        "imgNew = imgNew.astype(int)\n",
        "print(\"The shape of the new Image array is: \", imgNew.shape)"
      ],
      "execution_count": 30,
      "outputs": [
        {
          "output_type": "stream",
          "text": [
            "The shape of the new Image array is:  (400, 640)\n"
          ],
          "name": "stdout"
        }
      ]
    },
    {
      "cell_type": "markdown",
      "metadata": {
        "id": "Lx9HhMUIJ-qX",
        "colab_type": "text"
      },
      "source": [
        "\n",
        "\n",
        "---\n",
        "\n"
      ]
    },
    {
      "cell_type": "markdown",
      "metadata": {
        "id": "803oR-e0J_Mc",
        "colab_type": "text"
      },
      "source": [
        "# **Resizing the image to a specified resolution using single point resampling method**"
      ]
    },
    {
      "cell_type": "markdown",
      "metadata": {
        "id": "dH4AJGuNMgfD",
        "colab_type": "text"
      },
      "source": [
        "## **Resampling the image**"
      ]
    },
    {
      "cell_type": "code",
      "metadata": {
        "id": "AWaY5QAmKHoO",
        "colab_type": "code",
        "colab": {}
      },
      "source": [
        "# Function: Resampling\n",
        "#\n",
        "#   Parameter: img – the original image\n",
        "#              N – the number of columns\n",
        "#              M – the number rows\n",
        "#              x, y – the position for resampling\n",
        "#\n",
        "#   Result:    resampled intensity value at (x,y) position\n",
        "\n",
        "def resampling(img, N, M, x, y):\n",
        "\n",
        "    i = int(x)   # truncation\n",
        "    j = int(y)   # truncation\n",
        "    \n",
        "    s = (x - i)\n",
        "    t = (y - j)\n",
        "\n",
        "    # Displaying the values for inspection\n",
        "    # With the help of this we can display few points around the center of the image\n",
        "    # This is mainly used for debugging purpose. (Credits to my professor for providing the code)\n",
        "    if(x >= (N/2-1) and x <= (N/2+1) and y >=(M/2-1) and y <= (M/2+1)):\n",
        "\n",
        "       print(x, y, i, j, s, t)\n",
        "       print(\"----------------------------------------------------\")\n",
        "       print(img[j][i], img[j][i+1], img[j+1][i], img[j+1][i+1])\n",
        "       print(\"----------------------------------------------------\")\n",
        "\n",
        "    \n",
        "    result = img[j,i] * (1.0-s) * (1.0-t) + img[j,i+1] * s * (1.0-t) + img[j+1,i] * (1.0-s) * t + img[j+1,i+1] * s * t\n",
        "\n",
        "    # Since we don't want the intensity values in float, we can safely explicitly type cast it to intergers as shown below\n",
        "    return int(result)"
      ],
      "execution_count": 0,
      "outputs": []
    },
    {
      "cell_type": "markdown",
      "metadata": {
        "id": "oVsGimCaMTz0",
        "colab_type": "text"
      },
      "source": [
        "\n",
        "\n",
        "---\n",
        "\n"
      ]
    },
    {
      "cell_type": "markdown",
      "metadata": {
        "id": "6KlBgwC-MUUR",
        "colab_type": "text"
      },
      "source": [
        "## **Resizing the image**"
      ]
    },
    {
      "cell_type": "code",
      "metadata": {
        "id": "RFVcdOnbMjn_",
        "colab_type": "code",
        "colab": {}
      },
      "source": [
        "# Function: Image Resizing\n",
        "#\n",
        "#   Parameters: img – original image\n",
        "#               N, M – columns and rows of the original image\n",
        "#               imgNew – resized the new image\n",
        "#               N1, M1 – columns and rows of the new image\n",
        "\n",
        "def resizeImage(img, imgNew, N, M, N1, M1):\n",
        "\n",
        "    x = 0.0    \n",
        "    y = 0.0\n",
        "\n",
        "    Dx = float(N - 1)/(N1 - 1)    # Dx, Dy are the interval lengths for resampling\n",
        "    Dy = float(M - 1)/(M1 - 1)    # Double data type are not supported in python, so using float is preferable\n",
        "\n",
        "    for j in range(M1):\n",
        "        y += Dy\n",
        "        for i in range(N1):\n",
        "\n",
        "            # To avoid array index out of bound exception, since the rows and columns of original image is 256 and 256.\n",
        "            # The resampling methods tries to access the 257 rows and 257 columns and so on...\n",
        "            # So we need to manually set the thresholds and then break the condition once if the control come here and continue looping\n",
        "            if(x >= COLS-1 or y >= ROWS-1 ):\n",
        "                break\n",
        "\n",
        "            imgNew[j][i] = resampling(img, N, M, x, y) # Calling the resampling function which returns the intensity values at given points\n",
        "            x = x+Dx\n",
        "\n",
        "        # If we don't reinitialize the x value to 0.0 then at the end we will get a blank black image. So doing this is compulsory\n",
        "        x = 0.0\n",
        "        \n",
        "    # Printing the newly image array\n",
        "    print(imgNew)"
      ],
      "execution_count": 0,
      "outputs": []
    },
    {
      "cell_type": "markdown",
      "metadata": {
        "id": "eZeNawd1z4iW",
        "colab_type": "text"
      },
      "source": [
        "\n",
        "\n",
        "---\n",
        "\n"
      ]
    },
    {
      "cell_type": "markdown",
      "metadata": {
        "id": "7x-bEZrVG2qd",
        "colab_type": "text"
      },
      "source": [
        "# **Testing the program**\n",
        "\n",
        "1. Input image filename: “rose.raw”\n",
        "\n",
        "*   Format: grayscale\n",
        "*   Original resolution: 256x256\n",
        "*   New resolution: 500x500\n",
        "\n"
      ]
    },
    {
      "cell_type": "code",
      "metadata": {
        "id": "2Iw7wYHAGGZz",
        "colab_type": "code",
        "outputId": "1de03313-b5b3-40cb-ed79-952806a1a674",
        "colab": {
          "base_uri": "https://localhost:8080/",
          "height": 121
        }
      },
      "source": [
        "# Function: main\n",
        "#\n",
        "#    Description:  This is the main function of the program\n",
        "#                  On executing this function, all the functions declared inside will be called. Just like in C, C++, etc.\n",
        "#\n",
        "#    Parameter:    None\n",
        "#\n",
        "#    Result:       Calls every function declared inside it.\n",
        "#   \n",
        "#    Author:       Tanu Nanda Prabhu\n",
        "\n",
        "if __name__ == \"__main__\":\n",
        "\n",
        "    resolution = resolution()    # Calling the resolution() and storing the result in resolution\n",
        "    fileName = fileName()        # Calling the fileName() and storing the result in fileName"
      ],
      "execution_count": 4,
      "outputs": [
        {
          "output_type": "stream",
          "text": [
            "Enter the number of rows of the old image: 256\n",
            "Enter the number of columns of the old image: 256\n",
            "Enter the number of rows of the new image: 500\n",
            "Enter the number of columns of the new image: 500\n",
            "Enter the file name to read:  rose.raw\n",
            "Enter the file name to save:  rose500x500.raw\n"
          ],
          "name": "stdout"
        }
      ]
    },
    {
      "cell_type": "code",
      "metadata": {
        "id": "TwObFdFiG8vh",
        "colab_type": "code",
        "outputId": "b29455bb-aed5-47ca-888c-66712a5f8ed7",
        "colab": {
          "base_uri": "https://localhost:8080/",
          "height": 1000
        }
      },
      "source": [
        "resizeImage(img, imgNew, resolution[1], resolution[0], resolution[3], resolution[2])"
      ],
      "execution_count": 11,
      "outputs": [
        {
          "output_type": "stream",
          "text": [
            "127.24448897795635 127.24448897795635 127 127 0.24448897795635105 0.24448897795635105\n",
            "----------------------------------------------------\n",
            "133 151 135 140\n",
            "----------------------------------------------------\n",
            "127.75551102204453 127.24448897795635 127 127 0.75551102204453 0.24448897795635105\n",
            "----------------------------------------------------\n",
            "133 151 135 140\n",
            "----------------------------------------------------\n",
            "128.2665330661327 127.24448897795635 128 127 0.2665330661326948 0.24448897795635105\n",
            "----------------------------------------------------\n",
            "151 160 140 152\n",
            "----------------------------------------------------\n",
            "128.77755511022087 127.24448897795635 128 127 0.7775551102208738 0.24448897795635105\n",
            "----------------------------------------------------\n",
            "151 160 140 152\n",
            "----------------------------------------------------\n",
            "127.24448897795635 127.75551102204453 127 127 0.24448897795635105 0.75551102204453\n",
            "----------------------------------------------------\n",
            "133 151 135 140\n",
            "----------------------------------------------------\n",
            "127.75551102204453 127.75551102204453 127 127 0.75551102204453 0.75551102204453\n",
            "----------------------------------------------------\n",
            "133 151 135 140\n",
            "----------------------------------------------------\n",
            "128.2665330661327 127.75551102204453 128 127 0.2665330661326948 0.75551102204453\n",
            "----------------------------------------------------\n",
            "151 160 140 152\n",
            "----------------------------------------------------\n",
            "128.77755511022087 127.75551102204453 128 127 0.7775551102208738 0.75551102204453\n",
            "----------------------------------------------------\n",
            "151 160 140 152\n",
            "----------------------------------------------------\n",
            "127.24448897795635 128.2665330661327 127 128 0.24448897795635105 0.2665330661326948\n",
            "----------------------------------------------------\n",
            "135 140 137 137\n",
            "----------------------------------------------------\n",
            "127.75551102204453 128.2665330661327 127 128 0.75551102204453 0.2665330661326948\n",
            "----------------------------------------------------\n",
            "135 140 137 137\n",
            "----------------------------------------------------\n",
            "128.2665330661327 128.2665330661327 128 128 0.2665330661326948 0.2665330661326948\n",
            "----------------------------------------------------\n",
            "140 152 137 142\n",
            "----------------------------------------------------\n",
            "128.77755511022087 128.2665330661327 128 128 0.7775551102208738 0.2665330661326948\n",
            "----------------------------------------------------\n",
            "140 152 137 142\n",
            "----------------------------------------------------\n",
            "127.24448897795635 128.77755511022087 127 128 0.24448897795635105 0.7775551102208738\n",
            "----------------------------------------------------\n",
            "135 140 137 137\n",
            "----------------------------------------------------\n",
            "127.75551102204453 128.77755511022087 127 128 0.75551102204453 0.7775551102208738\n",
            "----------------------------------------------------\n",
            "135 140 137 137\n",
            "----------------------------------------------------\n",
            "128.2665330661327 128.77755511022087 128 128 0.2665330661326948 0.7775551102208738\n",
            "----------------------------------------------------\n",
            "140 152 137 142\n",
            "----------------------------------------------------\n",
            "128.77755511022087 128.77755511022087 128 128 0.7775551102208738 0.7775551102208738\n",
            "----------------------------------------------------\n",
            "140 152 137 142\n",
            "----------------------------------------------------\n",
            "[[18 18 18 ... 23 23  0]\n",
            " [18 18 18 ... 23 23  0]\n",
            " [18 18 18 ... 22 22  0]\n",
            " ...\n",
            " [ 6  6  6 ... 13 13  0]\n",
            " [ 0  0  0 ...  0  0  0]\n",
            " [ 0  0  0 ...  0  0  0]]\n"
          ],
          "name": "stdout"
        }
      ]
    },
    {
      "cell_type": "markdown",
      "metadata": {
        "id": "_OlG2nle9J1c",
        "colab_type": "text"
      },
      "source": [
        "\n",
        "\n",
        "---\n",
        "\n"
      ]
    },
    {
      "cell_type": "markdown",
      "metadata": {
        "id": "0S0HwbgzG69v",
        "colab_type": "text"
      },
      "source": [
        "2. Input image filename: “winter-landscape-1600x1000-grayscale.raw”\n",
        "\n",
        "*  Format: grayscale\n",
        "*  Original resolution: 1600x1000\n",
        "*  New resolution: 1000x625\n",
        "\n",
        "\n"
      ]
    },
    {
      "cell_type": "code",
      "metadata": {
        "id": "h8X1ANNe9NWu",
        "colab_type": "code",
        "colab": {
          "base_uri": "https://localhost:8080/",
          "height": 121
        },
        "outputId": "bc7f3a8d-10ba-463d-ddf0-486b37eb6f8f"
      },
      "source": [
        "# Function: main\n",
        "#\n",
        "#    Description:  This is the main function of the program\n",
        "#                  On executing this function, all the functions declared inside will be called. Just like in C, C++, etc.\n",
        "#\n",
        "#    Parameter:    None\n",
        "#\n",
        "#    Result:       Calls every function declared inside it.\n",
        "#   \n",
        "#    Author:       Tanu Nanda Prabhu\n",
        "\n",
        "if __name__ == \"__main__\":\n",
        "\n",
        "    resolution = resolution()    # Calling the resolution() and storing the result in resolution\n",
        "    fileName = fileName()        # Calling the fileName() and storing the result in fileName"
      ],
      "execution_count": 15,
      "outputs": [
        {
          "output_type": "stream",
          "text": [
            "Enter the number of rows of the old image: 1000\n",
            "Enter the number of columns of the old image: 1600\n",
            "Enter the number of rows of the new image: 625\n",
            "Enter the number of columns of the new image: 1000\n",
            "Enter the file name to read:  winter-landscape-1600x1000-grayscale.raw\n",
            "Enter the file name to save:  winter-landscape-1000x525-grayscale.raw\n"
          ],
          "name": "stdout"
        }
      ]
    },
    {
      "cell_type": "code",
      "metadata": {
        "id": "4MhqEPq0G44Q",
        "colab_type": "code",
        "outputId": "964557b6-7afc-4f90-f5fe-7bf927254905",
        "colab": {
          "base_uri": "https://localhost:8080/",
          "height": 208
        }
      },
      "source": [
        "resizeImage(img, imgNew, resolution[1], resolution[0], resolution[3], resolution[2])"
      ],
      "execution_count": 22,
      "outputs": [
        {
          "output_type": "stream",
          "text": [
            "800.3003003003062 499.5000000000019 800 499 0.30030030030616217 0.5000000000018758\n",
            "----------------------------------------------------\n",
            "67 62 67 60\n",
            "----------------------------------------------------\n",
            "[[240 238 238 ... 230 230 230]\n",
            " [240 238 238 ... 232 233 234]\n",
            " [237 237 237 ... 232 232 232]\n",
            " ...\n",
            " [ 50  50  50 ...  50  49  50]\n",
            " [  0   0   0 ...   0   0   0]\n",
            " [  0   0   0 ...   0   0   0]]\n"
          ],
          "name": "stdout"
        }
      ]
    },
    {
      "cell_type": "markdown",
      "metadata": {
        "id": "AISpIKRO-ceC",
        "colab_type": "text"
      },
      "source": [
        "\n",
        "\n",
        "---\n",
        "\n"
      ]
    },
    {
      "cell_type": "markdown",
      "metadata": {
        "id": "QVixePrtH37b",
        "colab_type": "text"
      },
      "source": [
        "3. Input image filename: “winter-landscape-1600x1000-grayscale.raw”\n",
        "\n",
        "*  Format: grayscale\n",
        "*  Original resolution: 1600x1000\n",
        "*  New resolution: 640x400"
      ]
    },
    {
      "cell_type": "code",
      "metadata": {
        "id": "6nF1-9fu9qYL",
        "colab_type": "code",
        "colab": {
          "base_uri": "https://localhost:8080/",
          "height": 121
        },
        "outputId": "ded346f2-26e9-4af8-ce13-0fcf97f91da0"
      },
      "source": [
        "# Function: main\n",
        "#\n",
        "#    Description:  This is the main function of the program\n",
        "#                  On executing this function, all the functions declared inside will be called. Just like in C, C++, etc.\n",
        "#\n",
        "#    Parameter:    None\n",
        "#\n",
        "#    Result:       Calls every function declared inside it.\n",
        "#   \n",
        "#    Author:       Tanu Nanda Prabhu\n",
        "\n",
        "if __name__ == \"__main__\":\n",
        "\n",
        "    resolution = resolution()    # Calling the resolution() and storing the result in resolution\n",
        "    fileName = fileName()        # Calling the fileName() and storing the result in fileName"
      ],
      "execution_count": 26,
      "outputs": [
        {
          "output_type": "stream",
          "text": [
            "Enter the number of rows of the old image: 1000\n",
            "Enter the number of columns of the old image: 1600\n",
            "Enter the number of rows of the new image: 400\n",
            "Enter the number of columns of the new image: 640\n",
            "Enter the file name to read:  winter-landscape-1600x1000-grayscale.raw\n",
            "Enter the file name to save:  winter-landscape-640x400-grayscale.raw\n"
          ],
          "name": "stdout"
        }
      ]
    },
    {
      "cell_type": "code",
      "metadata": {
        "id": "7GQRjPlfHAOn",
        "colab_type": "code",
        "colab": {
          "base_uri": "https://localhost:8080/",
          "height": 208
        },
        "outputId": "9aee95f1-1aa6-4a96-9758-ac02075888b1"
      },
      "source": [
        "resizeImage(img, imgNew, resolution[1], resolution[0], resolution[3], resolution[2])"
      ],
      "execution_count": 33,
      "outputs": [
        {
          "output_type": "stream",
          "text": [
            "800.751173708922 500.7518796992485 800 500 0.7511737089220105 0.7518796992484909\n",
            "----------------------------------------------------\n",
            "67 60 66 56\n",
            "----------------------------------------------------\n",
            "[[240 238 238 ... 231 232   0]\n",
            " [236 237 239 ... 232 232   0]\n",
            " [236 239 235 ... 232 231   0]\n",
            " ...\n",
            " [ 50  50  49 ...  50  50   0]\n",
            " [ 50  50  50 ...  50  50   0]\n",
            " [  0   0   0 ...   0   0   0]]\n"
          ],
          "name": "stdout"
        }
      ]
    },
    {
      "cell_type": "markdown",
      "metadata": {
        "id": "_ZA1WbOfSKAs",
        "colab_type": "text"
      },
      "source": [
        "\n",
        "\n",
        "---\n",
        "\n"
      ]
    },
    {
      "cell_type": "markdown",
      "metadata": {
        "id": "Kbs5SCIiSKjJ",
        "colab_type": "text"
      },
      "source": [
        "# **Saving the new image into a new file in a raw format**"
      ]
    },
    {
      "cell_type": "code",
      "metadata": {
        "id": "_qmepmjmSPty",
        "colab_type": "code",
        "outputId": "975195ab-578f-4112-eaf1-dfd61bbea61b",
        "colab": {
          "base_uri": "https://localhost:8080/",
          "height": 52
        }
      },
      "source": [
        "# Save the output image\n",
        "print(\"... Save the output image\")\n",
        "imgNew.astype('int8').tofile(fileName[1])\n",
        "print(\"... File successfully saved\")\n",
        "# Closing the file\n",
        "fin.close()"
      ],
      "execution_count": 34,
      "outputs": [
        {
          "output_type": "stream",
          "text": [
            "... Save the output image\n",
            "... File successfully saved\n"
          ],
          "name": "stdout"
        }
      ]
    },
    {
      "cell_type": "markdown",
      "metadata": {
        "id": "yPFY0kG93oY6",
        "colab_type": "text"
      },
      "source": [
        "\n",
        "\n",
        "> **Note**: While entering the input. For example if the resolution of an image is **1600x1000**, then it means the **width** is **1600** and the **height** is **1000**. Similarly in the above program the **rows** would be **1000** and the **columns** would be **1600**. \n",
        "\n",
        "\n",
        "\n"
      ]
    },
    {
      "cell_type": "markdown",
      "metadata": {
        "id": "uD1ymfClThzM",
        "colab_type": "text"
      },
      "source": [
        "\n",
        "\n",
        "---\n",
        "\n"
      ]
    }
  ]
}